{
  "nbformat": 4,
  "nbformat_minor": 0,
  "metadata": {
    "kernelspec": {
      "display_name": "Python 3",
      "language": "python",
      "name": "python3"
    },
    "language_info": {
      "codemirror_mode": {
        "name": "ipython",
        "version": 3
      },
      "file_extension": ".py",
      "mimetype": "text/x-python",
      "name": "python",
      "nbconvert_exporter": "python",
      "pygments_lexer": "ipython3",
      "version": "3.8.3"
    },
    "colab": {
      "name": "Introduccion.ipynb",
      "provenance": [],
      "collapsed_sections": [
        "sjk_IVznfyzK",
        "cTP_Oj8qfyzS",
        "6zB-S8LUfyzU"
      ],
      "toc_visible": true,
      "include_colab_link": true
    }
  },
  "cells": [
    {
      "cell_type": "markdown",
      "metadata": {
        "id": "view-in-github",
        "colab_type": "text"
      },
      "source": [
        "<a href=\"https://colab.research.google.com/github/Erandi0011/Python/blob/main/Introduccion.ipynb\" target=\"_parent\"><img src=\"https://colab.research.google.com/assets/colab-badge.svg\" alt=\"Open In Colab\"/></a>"
      ]
    },
    {
      "cell_type": "markdown",
      "metadata": {
        "id": "WWq7hwQUfyy1"
      },
      "source": [
        "# Python 1\n",
        "## Introducción a Python con Jupyter notebook"
      ]
    },
    {
      "cell_type": "markdown",
      "metadata": {
        "id": "DvSHq_-TfyzC"
      },
      "source": [
        "Instalación de los programas, y algunas recomendaciones\n",
        "https://www.anaconda.com/products/individual"
      ]
    },
    {
      "cell_type": "markdown",
      "metadata": {
        "id": "b1Bb9X96fyzD"
      },
      "source": [
        "¿Por qué Pyhton?\n",
        "Python es un lenguaje de programación de propósito general muy poderoso y flexible, a la vez que sencillo y fácil de aprender. Es un lenguaje de alto nivel, que permite procesar fácilmente todo tipo de estructuras de datos, tanto numéricos como de texto."
      ]
    },
    {
      "cell_type": "markdown",
      "metadata": {
        "id": "RYe7aUXlfyzE"
      },
      "source": [
        "## 1.Variables\n",
        "### 1.1 Tipo de datos"
      ]
    },
    {
      "cell_type": "code",
      "metadata": {
        "id": "uCwUt_MAfyzF"
      },
      "source": [
        "n=4"
      ],
      "execution_count": null,
      "outputs": []
    },
    {
      "cell_type": "code",
      "metadata": {
        "colab": {
          "base_uri": "https://localhost:8080/"
        },
        "id": "zCFTYIn2fyzG",
        "outputId": "14d52a26-6bfe-4603-85c0-0db26f65bef3"
      },
      "source": [
        "print(n)"
      ],
      "execution_count": null,
      "outputs": [
        {
          "output_type": "stream",
          "text": [
            "4\n"
          ],
          "name": "stdout"
        }
      ]
    },
    {
      "cell_type": "code",
      "metadata": {
        "colab": {
          "base_uri": "https://localhost:8080/"
        },
        "id": "yJ4U1dixfyzI",
        "outputId": "b7ae88f0-e9d8-4a64-d00a-71da1be56842"
      },
      "source": [
        "n=4.54\n",
        "print(n)\n",
        "type(n)"
      ],
      "execution_count": null,
      "outputs": [
        {
          "output_type": "stream",
          "text": [
            "4.54\n"
          ],
          "name": "stdout"
        },
        {
          "output_type": "execute_result",
          "data": {
            "text/plain": [
              "float"
            ]
          },
          "metadata": {
            "tags": []
          },
          "execution_count": 4
        }
      ]
    },
    {
      "cell_type": "code",
      "metadata": {
        "id": "bHCqiXptfyzI",
        "outputId": "272bd48d-a0bf-4280-c21b-f978d8db142f"
      },
      "source": [
        "c = \"Hola Mundo\"\n",
        "type(c)"
      ],
      "execution_count": null,
      "outputs": [
        {
          "output_type": "execute_result",
          "data": {
            "text/plain": [
              "str"
            ]
          },
          "metadata": {
            "tags": []
          },
          "execution_count": 4
        }
      ]
    },
    {
      "cell_type": "code",
      "metadata": {
        "id": "_jN74U7ZfyzJ",
        "outputId": "c6b36481-7fda-4ad6-e30d-48faffeac57a"
      },
      "source": [
        "c"
      ],
      "execution_count": null,
      "outputs": [
        {
          "output_type": "execute_result",
          "data": {
            "text/plain": [
              "'Hola Mundo'"
            ]
          },
          "metadata": {
            "tags": []
          },
          "execution_count": 6
        }
      ]
    },
    {
      "cell_type": "code",
      "metadata": {
        "id": "uWj6qpm8fyzJ",
        "outputId": "839998c5-d1dc-4444-e962-57627822491d"
      },
      "source": [
        "x = y = z = True\n",
        "y"
      ],
      "execution_count": null,
      "outputs": [
        {
          "output_type": "execute_result",
          "data": {
            "text/plain": [
              "True"
            ]
          },
          "metadata": {
            "tags": []
          },
          "execution_count": 8
        }
      ]
    },
    {
      "cell_type": "code",
      "metadata": {
        "id": "fha0c8XnfyzK",
        "outputId": "3f57e9cd-b7bb-4d3a-cb5d-34ada2e3e63d"
      },
      "source": [
        "type(z)"
      ],
      "execution_count": null,
      "outputs": [
        {
          "output_type": "execute_result",
          "data": {
            "text/plain": [
              "bool"
            ]
          },
          "metadata": {
            "tags": []
          },
          "execution_count": 9
        }
      ]
    },
    {
      "cell_type": "markdown",
      "metadata": {
        "id": "NBn1-GoT9BMF"
      },
      "source": [
        "### 1.2 Operaciones"
      ]
    },
    {
      "cell_type": "markdown",
      "metadata": {
        "id": "eMCW6Y8H_Fcp"
      },
      "source": [
        "Las cuatro operaciones aritméticas básicas son la suma (+), la resta (-), la multiplicación (*) y la división (/)."
      ]
    },
    {
      "cell_type": "code",
      "metadata": {
        "colab": {
          "base_uri": "https://localhost:8080/"
        },
        "id": "MHTFIjgz_XE5",
        "outputId": "7cc3e8ac-b4ee-487e-e322-7cda1333c846"
      },
      "source": [
        "x=5+1\n",
        "x"
      ],
      "execution_count": null,
      "outputs": [
        {
          "output_type": "execute_result",
          "data": {
            "text/plain": [
              "6"
            ]
          },
          "metadata": {
            "tags": []
          },
          "execution_count": 1
        }
      ]
    },
    {
      "cell_type": "code",
      "metadata": {
        "colab": {
          "base_uri": "https://localhost:8080/"
        },
        "id": "vqZLzSDo_eNa",
        "outputId": "1b6e3bfc-2798-4528-8c1f-3d3ac4f06162"
      },
      "source": [
        "x=6.7+3\n",
        "x"
      ],
      "execution_count": null,
      "outputs": [
        {
          "output_type": "execute_result",
          "data": {
            "text/plain": [
              "9.7"
            ]
          },
          "metadata": {
            "tags": []
          },
          "execution_count": 10
        }
      ]
    },
    {
      "cell_type": "code",
      "metadata": {
        "colab": {
          "base_uri": "https://localhost:8080/"
        },
        "id": "HrR_AKa6AYzJ",
        "outputId": "a0d7549d-7f7f-43ed-8587-89605151acb0"
      },
      "source": [
        "x=3-5\n",
        "x"
      ],
      "execution_count": null,
      "outputs": [
        {
          "output_type": "execute_result",
          "data": {
            "text/plain": [
              "-2"
            ]
          },
          "metadata": {
            "tags": []
          },
          "execution_count": 15
        }
      ]
    },
    {
      "cell_type": "code",
      "metadata": {
        "colab": {
          "base_uri": "https://localhost:8080/"
        },
        "id": "MjAW1hU_9FAH",
        "outputId": "316422eb-118a-4b46-f564-ed6be13993ed"
      },
      "source": [
        "x= 2* 3\n",
        "x\n"
      ],
      "execution_count": null,
      "outputs": [
        {
          "output_type": "execute_result",
          "data": {
            "text/plain": [
              "6"
            ]
          },
          "metadata": {
            "tags": []
          },
          "execution_count": 13
        }
      ]
    },
    {
      "cell_type": "code",
      "metadata": {
        "colab": {
          "base_uri": "https://localhost:8080/"
        },
        "id": "PTleyWXfAB96",
        "outputId": "5c93e920-fdb5-4363-bc36-1d498cb4e6d3"
      },
      "source": [
        "x=27/2\n",
        "x"
      ],
      "execution_count": null,
      "outputs": [
        {
          "output_type": "execute_result",
          "data": {
            "text/plain": [
              "13.5"
            ]
          },
          "metadata": {
            "tags": []
          },
          "execution_count": 16
        }
      ]
    },
    {
      "cell_type": "markdown",
      "metadata": {
        "id": "sjk_IVznfyzK"
      },
      "source": [
        "### Lógica de programación"
      ]
    },
    {
      "cell_type": "code",
      "metadata": {
        "id": "J0pq-16KfyzK",
        "outputId": "e0323ad8-12e2-402c-884d-7a763abdca19"
      },
      "source": [
        "1+1==3"
      ],
      "execution_count": null,
      "outputs": [
        {
          "output_type": "execute_result",
          "data": {
            "text/plain": [
              "False"
            ]
          },
          "metadata": {
            "tags": []
          },
          "execution_count": 4
        }
      ]
    },
    {
      "cell_type": "code",
      "metadata": {
        "id": "FmG5aqbdfyzL",
        "outputId": "adde59dd-0499-44d9-ac3e-1e060fd20a27"
      },
      "source": [
        "3!=1"
      ],
      "execution_count": null,
      "outputs": [
        {
          "output_type": "execute_result",
          "data": {
            "text/plain": [
              "True"
            ]
          },
          "metadata": {
            "tags": []
          },
          "execution_count": 5
        }
      ]
    },
    {
      "cell_type": "code",
      "metadata": {
        "id": "UAauAAGAfyzL",
        "outputId": "1a81e87d-6e63-405d-c88d-d93da5e114e7"
      },
      "source": [
        "3>2"
      ],
      "execution_count": null,
      "outputs": [
        {
          "output_type": "execute_result",
          "data": {
            "text/plain": [
              "True"
            ]
          },
          "metadata": {
            "tags": []
          },
          "execution_count": 6
        }
      ]
    },
    {
      "cell_type": "code",
      "metadata": {
        "id": "wojoLcdRfyzL"
      },
      "source": [
        "a=10"
      ],
      "execution_count": null,
      "outputs": []
    },
    {
      "cell_type": "code",
      "metadata": {
        "id": "5mmQEhJZfyzM",
        "outputId": "95652d10-f49d-45a7-c8e4-08aef934637f"
      },
      "source": [
        "b=5\n",
        "a>b"
      ],
      "execution_count": null,
      "outputs": [
        {
          "output_type": "execute_result",
          "data": {
            "text/plain": [
              "True"
            ]
          },
          "metadata": {
            "tags": []
          },
          "execution_count": 8
        }
      ]
    },
    {
      "cell_type": "code",
      "metadata": {
        "id": "Y-CjcUxxfyzM",
        "outputId": "5fd28589-7541-47a5-e08f-a0cc41638d80"
      },
      "source": [
        "not True"
      ],
      "execution_count": null,
      "outputs": [
        {
          "output_type": "execute_result",
          "data": {
            "text/plain": [
              "False"
            ]
          },
          "metadata": {
            "tags": []
          },
          "execution_count": 10
        }
      ]
    },
    {
      "cell_type": "code",
      "metadata": {
        "id": "KNaQkhiKfyzN",
        "outputId": "6f899981-3317-4f4e-a004-26d5c7ba48bc"
      },
      "source": [
        "c1=\"una cadena\"\n",
        "c2=\" otra cadena\"\n",
        "print(c1+c2)"
      ],
      "execution_count": null,
      "outputs": [
        {
          "output_type": "stream",
          "text": [
            "una cadena otra cadena\n"
          ],
          "name": "stdout"
        }
      ]
    },
    {
      "cell_type": "code",
      "metadata": {
        "id": "w2m6CZZOfyzO",
        "outputId": "521ebbff-0043-4b55-e8c7-08674568e44c"
      },
      "source": [
        "palabra=\"python\"\n",
        "print(palabra[0])\n"
      ],
      "execution_count": null,
      "outputs": [
        {
          "output_type": "stream",
          "text": [
            "p\n"
          ],
          "name": "stdout"
        }
      ]
    },
    {
      "cell_type": "code",
      "metadata": {
        "id": "vv3nAPDXfyzQ",
        "outputId": "4eb75193-a286-4bcd-e349-56c9506717ae"
      },
      "source": [
        "palabra=\"python\"\n",
        "print(palabra[-3])"
      ],
      "execution_count": null,
      "outputs": [
        {
          "output_type": "stream",
          "text": [
            "h\n"
          ],
          "name": "stdout"
        }
      ]
    },
    {
      "cell_type": "code",
      "metadata": {
        "id": "ImdvSuhafyzQ",
        "outputId": "43aaf053-b5f1-4e93-d486-fdf5cad3141a"
      },
      "source": [
        "print(palabra[0:2])\n"
      ],
      "execution_count": null,
      "outputs": [
        {
          "output_type": "stream",
          "text": [
            "py\n"
          ],
          "name": "stdout"
        }
      ]
    },
    {
      "cell_type": "code",
      "metadata": {
        "id": "RGKAOLFDfyzR",
        "outputId": "265e18e0-84dc-48d7-d7b0-810af2cad283"
      },
      "source": [
        "print(palabra[0:6])"
      ],
      "execution_count": null,
      "outputs": [
        {
          "output_type": "stream",
          "text": [
            "python\n"
          ],
          "name": "stdout"
        }
      ]
    },
    {
      "cell_type": "code",
      "metadata": {
        "id": "G4UB7ErQfyzR",
        "outputId": "52d2eba2-1b7d-4ed3-b6f5-989d25104a94"
      },
      "source": [
        "print(palabra[0:5])"
      ],
      "execution_count": null,
      "outputs": [
        {
          "output_type": "stream",
          "text": [
            "pytho\n"
          ],
          "name": "stdout"
        }
      ]
    },
    {
      "cell_type": "code",
      "metadata": {
        "id": "aLpPJjSZfyzS",
        "outputId": "f021e69e-acc8-4cd6-e7b9-c63fa88f4f81"
      },
      "source": [
        "print(palabra[-3:5])\n"
      ],
      "execution_count": null,
      "outputs": [
        {
          "output_type": "stream",
          "text": [
            "ho\n"
          ],
          "name": "stdout"
        }
      ]
    },
    {
      "cell_type": "markdown",
      "metadata": {
        "id": "cTP_Oj8qfyzS"
      },
      "source": [
        "### 1.3 Palabras reservadas"
      ]
    },
    {
      "cell_type": "markdown",
      "metadata": {
        "id": "DkWFxE8MfyzS"
      },
      "source": [
        "Existen ciertas palabras que tienen significado especial para el intérprete de Python. Estas no pueden utilizarse para ningún otro fin"
      ]
    },
    {
      "cell_type": "markdown",
      "metadata": {
        "id": "UPYAt-MKfyzS"
      },
      "source": [
        "Algunas de ellas son: \n",
        "\n",
        "and\n",
        "as\n",
        "assert\n",
        "break\n",
        "class\n",
        "continue\n",
        "if\n",
        "elif\n",
        "else\n",
        "except"
      ]
    },
    {
      "cell_type": "markdown",
      "metadata": {
        "id": "8gUejMwHfyzT"
      },
      "source": [
        "Para verificar si una palabra esta reservada utilizando el módulo integrado keyword"
      ]
    },
    {
      "cell_type": "code",
      "metadata": {
        "id": "1uM4HSL6fyzT",
        "outputId": "618df9df-415d-4e07-bb21-efd011018ed4"
      },
      "source": [
        "import keyword\n",
        "keyword.iskeyword('as')"
      ],
      "execution_count": null,
      "outputs": [
        {
          "output_type": "execute_result",
          "data": {
            "text/plain": [
              "True"
            ]
          },
          "metadata": {
            "tags": []
          },
          "execution_count": 29
        }
      ]
    },
    {
      "cell_type": "markdown",
      "metadata": {
        "id": "4DlFFHT6fyzT"
      },
      "source": [
        "Para obtener una lista de todas las palabras reservadas"
      ]
    },
    {
      "cell_type": "code",
      "metadata": {
        "id": "gcp5aS2RfyzT",
        "outputId": "89247193-85f1-4ab2-f6f6-7102750ae5e7"
      },
      "source": [
        "keyword.kwlist"
      ],
      "execution_count": null,
      "outputs": [
        {
          "output_type": "execute_result",
          "data": {
            "text/plain": [
              "['False',\n",
              " 'None',\n",
              " 'True',\n",
              " 'and',\n",
              " 'as',\n",
              " 'assert',\n",
              " 'async',\n",
              " 'await',\n",
              " 'break',\n",
              " 'class',\n",
              " 'continue',\n",
              " 'def',\n",
              " 'del',\n",
              " 'elif',\n",
              " 'else',\n",
              " 'except',\n",
              " 'finally',\n",
              " 'for',\n",
              " 'from',\n",
              " 'global',\n",
              " 'if',\n",
              " 'import',\n",
              " 'in',\n",
              " 'is',\n",
              " 'lambda',\n",
              " 'nonlocal',\n",
              " 'not',\n",
              " 'or',\n",
              " 'pass',\n",
              " 'raise',\n",
              " 'return',\n",
              " 'try',\n",
              " 'while',\n",
              " 'with',\n",
              " 'yield']"
            ]
          },
          "metadata": {
            "tags": []
          },
          "execution_count": 31
        }
      ]
    },
    {
      "cell_type": "markdown",
      "metadata": {
        "id": "XdfzsMIkfyzT"
      },
      "source": [
        "Python tiene varios tipos de datos "
      ]
    },
    {
      "cell_type": "markdown",
      "metadata": {
        "id": "B4I2Nq-zfyzU"
      },
      "source": [
        "int\t        entero\n",
        "long\t    entero long\n",
        "float\t    flotante\n",
        "complex  \tcomplejo\n",
        "bool\t    booleano\n",
        "str\t        cadena de caracteres\n",
        "unicode\t    cadena de caracteres Unicode\n",
        "tuple\t    tupla\n",
        "xrange\t    rango inmutable\n",
        "list\t    lista\n",
        "range\t    rango mutable\n",
        "dict\t    diccionario\n",
        "set\t        conjunto mutable\n",
        "frozenset\tconjunto inmutable"
      ]
    },
    {
      "cell_type": "markdown",
      "metadata": {
        "id": "6zB-S8LUfyzU"
      },
      "source": [
        "## Operadores de asignaciones"
      ]
    },
    {
      "cell_type": "markdown",
      "metadata": {
        "id": "cHtgTOdcfyzV"
      },
      "source": [
        "El operador igual a (=)\n",
        "Asigna a la variable del lado izquierdo cualquier variable o resultado del lado derecho."
      ]
    },
    {
      "cell_type": "code",
      "metadata": {
        "id": "znVvtZsWfyzV"
      },
      "source": [
        "a=3"
      ],
      "execution_count": null,
      "outputs": []
    },
    {
      "cell_type": "markdown",
      "metadata": {
        "id": "-uzJIFNzfyzV"
      },
      "source": [
        "El operador más igual a (+=) suma a la variable original el valor asignado"
      ]
    },
    {
      "cell_type": "code",
      "metadata": {
        "id": "q9MzeiwBfyzV",
        "outputId": "030c426a-63f7-4337-b14a-0f9fd2210c9c"
      },
      "source": [
        "a=3\n",
        "a+=1\n",
        "a"
      ],
      "execution_count": null,
      "outputs": [
        {
          "output_type": "execute_result",
          "data": {
            "text/plain": [
              "4"
            ]
          },
          "metadata": {
            "tags": []
          },
          "execution_count": 37
        }
      ]
    },
    {
      "cell_type": "code",
      "metadata": {
        "id": "uk9_t0UvfyzV",
        "outputId": "11176426-c5e4-4052-9075-6c3d2ee0dc0f"
      },
      "source": [
        "a = 3; a=a+1\n",
        "a"
      ],
      "execution_count": null,
      "outputs": [
        {
          "output_type": "execute_result",
          "data": {
            "text/plain": [
              "4"
            ]
          },
          "metadata": {
            "tags": []
          },
          "execution_count": 44
        }
      ]
    },
    {
      "cell_type": "markdown",
      "metadata": {
        "id": "kg9_IbpcfyzW"
      },
      "source": [
        " Operador menos igual a(-=)"
      ]
    },
    {
      "cell_type": "code",
      "metadata": {
        "id": "L9wJOj9vfyzW",
        "outputId": "3b4d51a2-0bec-4128-8f84-871cb96185c0"
      },
      "source": [
        "r = 5; r -= 10; r\n"
      ],
      "execution_count": null,
      "outputs": [
        {
          "output_type": "execute_result",
          "data": {
            "text/plain": [
              "-5"
            ]
          },
          "metadata": {
            "tags": []
          },
          "execution_count": 45
        }
      ]
    },
    {
      "cell_type": "code",
      "metadata": {
        "id": "lOO0X3tqfyzX",
        "outputId": "4d50aa65-48b9-4625-e9d3-50b1fd64f4f2"
      },
      "source": [
        "r = 5; r = r - 10; r"
      ],
      "execution_count": null,
      "outputs": [
        {
          "output_type": "execute_result",
          "data": {
            "text/plain": [
              "-5"
            ]
          },
          "metadata": {
            "tags": []
          },
          "execution_count": 46
        }
      ]
    },
    {
      "cell_type": "markdown",
      "metadata": {
        "id": "wjaWEoO7fyzX"
      },
      "source": [
        " El operador *= multiplica a la variable del lado izquierdo el valor del lado derecho."
      ]
    },
    {
      "cell_type": "code",
      "metadata": {
        "id": "LFIoNissfyzX",
        "outputId": "0b362dfd-5878-4b54-f9bc-7442d3004e7e"
      },
      "source": [
        " r = 5; r *= 10; r"
      ],
      "execution_count": null,
      "outputs": [
        {
          "output_type": "execute_result",
          "data": {
            "text/plain": [
              "50"
            ]
          },
          "metadata": {
            "tags": []
          },
          "execution_count": 47
        }
      ]
    },
    {
      "cell_type": "code",
      "metadata": {
        "id": "uN6i2pwDfyzY",
        "outputId": "dc77a977-2737-4986-cc08-2e8ba066d244"
      },
      "source": [
        " r = 5; r = r * 10; r\n"
      ],
      "execution_count": null,
      "outputs": [
        {
          "output_type": "execute_result",
          "data": {
            "text/plain": [
              "50"
            ]
          },
          "metadata": {
            "tags": []
          },
          "execution_count": 48
        }
      ]
    },
    {
      "cell_type": "markdown",
      "metadata": {
        "id": "TVDTC4whfyzY"
      },
      "source": [
        "El operador (/=) divide a la variable del lado izquierdo el valor del lado derecho."
      ]
    },
    {
      "cell_type": "code",
      "metadata": {
        "id": "kGc2uZQ-fyzY",
        "outputId": "089fdec7-673e-4cd9-ffb9-9490410fc824"
      },
      "source": [
        " r = 10; r /= 5; r"
      ],
      "execution_count": null,
      "outputs": [
        {
          "output_type": "execute_result",
          "data": {
            "text/plain": [
              "2.0"
            ]
          },
          "metadata": {
            "tags": []
          },
          "execution_count": 50
        }
      ]
    },
    {
      "cell_type": "code",
      "metadata": {
        "id": "_LYnCgv3fyzY",
        "outputId": "fe39f1fa-cc2f-4162-b9c0-f0deb826dbd6"
      },
      "source": [
        "r = 10; r = r / 5; r"
      ],
      "execution_count": null,
      "outputs": [
        {
          "output_type": "execute_result",
          "data": {
            "text/plain": [
              "2.0"
            ]
          },
          "metadata": {
            "tags": []
          },
          "execution_count": 52
        }
      ]
    },
    {
      "cell_type": "markdown",
      "metadata": {
        "id": "vPiDBY3QfyzZ"
      },
      "source": [
        "El operador (**=) calcula el exponente de la variable original al valor definido con el operador"
      ]
    },
    {
      "cell_type": "code",
      "metadata": {
        "id": "gb0_FN02fyzZ",
        "outputId": "d7be79d2-e8d9-4219-f7c8-7d7c494bf6a2"
      },
      "source": [
        "r = 2\n",
        "r **= 6\n",
        "r"
      ],
      "execution_count": null,
      "outputs": [
        {
          "output_type": "execute_result",
          "data": {
            "text/plain": [
              "64"
            ]
          },
          "metadata": {
            "tags": []
          },
          "execution_count": 54
        }
      ]
    },
    {
      "cell_type": "code",
      "metadata": {
        "id": "O6pvjWKWfyzZ",
        "outputId": "71e703ba-e8c5-4062-cf96-ec572cdc7b0b"
      },
      "source": [
        "r = 2\n",
        "r= r ** 6\n",
        "r"
      ],
      "execution_count": null,
      "outputs": [
        {
          "output_type": "execute_result",
          "data": {
            "text/plain": [
              "64"
            ]
          },
          "metadata": {
            "tags": []
          },
          "execution_count": 56
        }
      ]
    },
    {
      "cell_type": "markdown",
      "metadata": {
        "id": "7rNpTHeffyzc"
      },
      "source": [
        "El operador (//=) calcula la división entera de la variable original al valor definido con el operador"
      ]
    },
    {
      "cell_type": "code",
      "metadata": {
        "id": "zJZlzXLWfyzc",
        "outputId": "ec908b44-819f-4edc-cda4-9ac541bad0bd"
      },
      "source": [
        "r = 20; r //= 10; r"
      ],
      "execution_count": null,
      "outputs": [
        {
          "output_type": "execute_result",
          "data": {
            "text/plain": [
              "2"
            ]
          },
          "metadata": {
            "tags": []
          },
          "execution_count": 57
        }
      ]
    },
    {
      "cell_type": "code",
      "metadata": {
        "id": "dU16lEFkfyzc",
        "outputId": "7951ea6c-9241-422c-d3a1-01e46c137c9a"
      },
      "source": [
        " r = 20; r = r // 10; r"
      ],
      "execution_count": null,
      "outputs": [
        {
          "output_type": "execute_result",
          "data": {
            "text/plain": [
              "2"
            ]
          },
          "metadata": {
            "tags": []
          },
          "execution_count": 59
        }
      ]
    },
    {
      "cell_type": "markdown",
      "metadata": {
        "id": "EfLRuDgMfyzd"
      },
      "source": [
        "Asignación aumentada"
      ]
    },
    {
      "cell_type": "code",
      "metadata": {
        "id": "-Sl6Y6Kcfyzd"
      },
      "source": [
        "contador = 2"
      ],
      "execution_count": null,
      "outputs": []
    },
    {
      "cell_type": "code",
      "metadata": {
        "id": "mdsO1WtIfyzd",
        "outputId": "3bc1806f-52a4-43ff-fb36-ed40d883d8d1"
      },
      "source": [
        "contador = contador + 1\n",
        "contador"
      ],
      "execution_count": null,
      "outputs": [
        {
          "output_type": "execute_result",
          "data": {
            "text/plain": [
              "3"
            ]
          },
          "metadata": {
            "tags": []
          },
          "execution_count": 85
        }
      ]
    },
    {
      "cell_type": "code",
      "metadata": {
        "id": "iGfLK7yGfyze",
        "outputId": "afb0f01f-749f-4382-ff25-cfe2bfe815b7"
      },
      "source": [
        "contador = 4\n",
        "contador += 1\n",
        "contador"
      ],
      "execution_count": null,
      "outputs": [
        {
          "output_type": "execute_result",
          "data": {
            "text/plain": [
              "5"
            ]
          },
          "metadata": {
            "tags": []
          },
          "execution_count": 86
        }
      ]
    },
    {
      "cell_type": "code",
      "metadata": {
        "id": "NAMC3Ihofyze",
        "outputId": "e35f8455-768a-4145-a86c-6aa1c6cccbbe"
      },
      "source": [
        "a=2\n",
        "b=3\n",
        "\n",
        "print (\"Valor de variable 'a':\", a)\n",
        "print (\"Valor de variable 'b':\", b)\n",
        "\n",
        "c = a + b\n",
        "print (\"Usando e Operador = | c = a + b =\", c)\n",
        "\n",
        "c += a\n",
        "print (\"Operador += | El valor de variable 'c' es c+a \", c)\n",
        "\n",
        "c *= a\n",
        "print (\"Operador *= | El valor de variable 'c' es cxa \", c)\n",
        "\n",
        "c /= a \n",
        "print (\"Operador /= | El valor de variable 'c' es c/a\", c)\n",
        "\n",
        "c **= a\n",
        "print (\"Operador **= | El valor de variable 'c' es c^a\", c)\n",
        "\n",
        "c //= a\n",
        "print (\"Operador //= | El valor de variable 'c' es c/a sin decimales\", c)\n"
      ],
      "execution_count": null,
      "outputs": [
        {
          "output_type": "stream",
          "text": [
            "Valor de variable 'a': 2\n",
            "Valor de variable 'b': 3\n",
            "Usando e Operador = | c = a + b = 5\n",
            "Operador += | El valor de variable 'c' es c+a  7\n",
            "Operador *= | El valor de variable 'c' es cxa  14\n",
            "Operador /= | El valor de variable 'c' es c/a 7.0\n",
            "Operador **= | El valor de variable 'c' es c^a 49.0\n",
            "Operador //= | El valor de variable 'c' es c/a sin decimales 24.0\n"
          ],
          "name": "stdout"
        }
      ]
    },
    {
      "cell_type": "code",
      "metadata": {
        "id": "1hPmIIh0fyzf",
        "outputId": "c7f50e45-7332-46c3-c09e-12f266acacce"
      },
      "source": [
        "palabra[:3]"
      ],
      "execution_count": null,
      "outputs": [
        {
          "output_type": "execute_result",
          "data": {
            "text/plain": [
              "'pyt'"
            ]
          },
          "metadata": {
            "tags": []
          },
          "execution_count": 28
        }
      ]
    },
    {
      "cell_type": "code",
      "metadata": {
        "id": "Rrgfm_QWfyzg",
        "outputId": "2dc1be2d-e3c4-4fa6-df29-ff0e481bd693"
      },
      "source": [
        "palabra[-1::-1]"
      ],
      "execution_count": null,
      "outputs": [
        {
          "output_type": "execute_result",
          "data": {
            "text/plain": [
              "'nohtyp'"
            ]
          },
          "metadata": {
            "tags": []
          },
          "execution_count": 21
        }
      ]
    },
    {
      "cell_type": "code",
      "metadata": {
        "id": "rI53UzlWfyzg",
        "outputId": "57e343f1-74f2-4232-ff3e-29ad54737d80"
      },
      "source": [
        "palabra[-1:1:-4]"
      ],
      "execution_count": null,
      "outputs": [
        {
          "output_type": "execute_result",
          "data": {
            "text/plain": [
              "'n'"
            ]
          },
          "metadata": {
            "tags": []
          },
          "execution_count": 22
        }
      ]
    },
    {
      "cell_type": "code",
      "metadata": {
        "id": "wPJz2V_7fyzg"
      },
      "source": [
        "palabra=\"N\"+palabra[1:]"
      ],
      "execution_count": null,
      "outputs": []
    },
    {
      "cell_type": "code",
      "metadata": {
        "id": "AUWDmGaWfyzh",
        "outputId": "4d5cec5e-f97d-4865-a84b-201bb8fb5d89"
      },
      "source": [
        "print(palabra)"
      ],
      "execution_count": null,
      "outputs": [
        {
          "output_type": "stream",
          "text": [
            "Nython\n"
          ],
          "name": "stdout"
        }
      ]
    },
    {
      "cell_type": "code",
      "metadata": {
        "id": "yratBqs0fyzh"
      },
      "source": [
        "numeros=[1,2,3]"
      ],
      "execution_count": null,
      "outputs": []
    },
    {
      "cell_type": "code",
      "metadata": {
        "id": "oiZ7mrudfyzh",
        "outputId": "d776fb2f-4af7-44d1-e72d-017aef1fdae3"
      },
      "source": [
        "numeros[0]"
      ],
      "execution_count": null,
      "outputs": [
        {
          "output_type": "execute_result",
          "data": {
            "text/plain": [
              "1"
            ]
          },
          "metadata": {
            "tags": []
          },
          "execution_count": 26
        }
      ]
    },
    {
      "cell_type": "code",
      "metadata": {
        "id": "LXDgjXEwfyzi"
      },
      "source": [
        "num2=[4,5,6]\n",
        "suma=numeros+num2"
      ],
      "execution_count": null,
      "outputs": []
    },
    {
      "cell_type": "code",
      "metadata": {
        "id": "dAnbr5aJfyzi",
        "outputId": "f0a83495-1d95-4dc9-b365-113351155437"
      },
      "source": [
        "print(suma)"
      ],
      "execution_count": null,
      "outputs": [
        {
          "output_type": "stream",
          "text": [
            "[1, 2, 3, 4, 5, 6]\n"
          ],
          "name": "stdout"
        }
      ]
    },
    {
      "cell_type": "code",
      "metadata": {
        "id": "Kq-XF-LLfyzi",
        "outputId": "3735bc7b-9325-4253-fd99-83072b376294"
      },
      "source": [
        "num2[0]=6\n",
        "print(num2)\n"
      ],
      "execution_count": null,
      "outputs": [
        {
          "output_type": "stream",
          "text": [
            "[6, 5, 6]\n"
          ],
          "name": "stdout"
        }
      ]
    },
    {
      "cell_type": "code",
      "metadata": {
        "id": "RgwqTvOwfyzi"
      },
      "source": [
        "num2.append(17)"
      ],
      "execution_count": null,
      "outputs": []
    },
    {
      "cell_type": "code",
      "metadata": {
        "id": "kpR5g1jtfyzi",
        "outputId": "5cbbd39e-e44c-4d3e-8dac-17b3d4885d44"
      },
      "source": [
        "num2\n"
      ],
      "execution_count": null,
      "outputs": [
        {
          "output_type": "execute_result",
          "data": {
            "text/plain": [
              "[6, 5, 6, 17]"
            ]
          },
          "metadata": {
            "tags": []
          },
          "execution_count": 31
        }
      ]
    },
    {
      "cell_type": "code",
      "metadata": {
        "id": "ImpSIN4Dfyzj"
      },
      "source": [
        "num2[1]=[]"
      ],
      "execution_count": null,
      "outputs": []
    },
    {
      "cell_type": "code",
      "metadata": {
        "id": "Ubs6tYbXfyzj",
        "outputId": "fc9ae755-35ac-476d-ba7a-190816fdcd2c"
      },
      "source": [
        "num2"
      ],
      "execution_count": null,
      "outputs": [
        {
          "output_type": "execute_result",
          "data": {
            "text/plain": [
              "[6, [], 6, 17]"
            ]
          },
          "metadata": {
            "tags": []
          },
          "execution_count": 33
        }
      ]
    },
    {
      "cell_type": "code",
      "metadata": {
        "id": "tQMmJ5NHfyzk",
        "outputId": "101b2104-5a6c-42c3-c3ed-1017c5a64f52"
      },
      "source": [
        "len(num2)"
      ],
      "execution_count": null,
      "outputs": [
        {
          "output_type": "execute_result",
          "data": {
            "text/plain": [
              "4"
            ]
          },
          "metadata": {
            "tags": []
          },
          "execution_count": 34
        }
      ]
    },
    {
      "cell_type": "code",
      "metadata": {
        "id": "zbMJYzZ_fyzk"
      },
      "source": [
        "a=[1,2,3]\n",
        "b=[4,5,6]\n",
        "c=[7,8,9]"
      ],
      "execution_count": null,
      "outputs": []
    },
    {
      "cell_type": "code",
      "metadata": {
        "id": "a-8Gp6ftfyzk",
        "outputId": "d1abcf87-3a46-4525-e022-7bf8cac7d9a2"
      },
      "source": [
        "r=[a,b,c]\n",
        "r"
      ],
      "execution_count": null,
      "outputs": [
        {
          "output_type": "execute_result",
          "data": {
            "text/plain": [
              "[[1, 2, 3], [4, 5, 6], [7, 8, 9]]"
            ]
          },
          "metadata": {
            "tags": []
          },
          "execution_count": 36
        }
      ]
    },
    {
      "cell_type": "code",
      "metadata": {
        "id": "ogAidxgkfyzl",
        "outputId": "37a27e3b-fed2-460b-d29c-f9af5804d7c1"
      },
      "source": [
        "r[0]"
      ],
      "execution_count": null,
      "outputs": [
        {
          "output_type": "execute_result",
          "data": {
            "text/plain": [
              "[1, 2, 3]"
            ]
          },
          "metadata": {
            "tags": []
          },
          "execution_count": 37
        }
      ]
    },
    {
      "cell_type": "markdown",
      "metadata": {
        "id": "rxvVL9-PBCrl"
      },
      "source": [
        "## 2.Estructura de datos"
      ]
    },
    {
      "cell_type": "markdown",
      "metadata": {
        "id": "6gZNAE6sBstT"
      },
      "source": [
        "### 2.1 Tuplas"
      ]
    },
    {
      "cell_type": "markdown",
      "metadata": {
        "id": "G2cNFtXyBxTA"
      },
      "source": [
        " Una tupla es un conjunto ordenado e inmutable de elementos del mismo o diferente tipo.\n",
        "\n",
        "Las tuplas se representan escribiendo los elementos entre paréntesis y separados por comas."
      ]
    },
    {
      "cell_type": "code",
      "metadata": {
        "colab": {
          "base_uri": "https://localhost:8080/"
        },
        "id": "DLzIDqCcCIWM",
        "outputId": "2c4e037b-70cf-41e3-fdc3-9ed20a4a6646"
      },
      "source": [
        "(1,\"Hello world\",x)"
      ],
      "execution_count": null,
      "outputs": [
        {
          "output_type": "execute_result",
          "data": {
            "text/plain": [
              "(1, 'Hello world', 13.5)"
            ]
          },
          "metadata": {
            "tags": []
          },
          "execution_count": 18
        }
      ]
    },
    {
      "cell_type": "code",
      "metadata": {
        "colab": {
          "base_uri": "https://localhost:8080/"
        },
        "id": "r21f9FxcDFqn",
        "outputId": "7c1196ca-0011-4b42-df2b-be8a239ed837"
      },
      "source": [
        "T=3,4,\"E\"\n",
        "T"
      ],
      "execution_count": null,
      "outputs": [
        {
          "output_type": "execute_result",
          "data": {
            "text/plain": [
              "(3, 4, 'E')"
            ]
          },
          "metadata": {
            "tags": []
          },
          "execution_count": 35
        }
      ]
    },
    {
      "cell_type": "code",
      "metadata": {
        "colab": {
          "base_uri": "https://localhost:8080/",
          "height": 35
        },
        "id": "yjV29bmkHw3d",
        "outputId": "b452ca3a-cd8f-4150-e7ec-9d323c4e4e1f"
      },
      "source": [
        "T[2]"
      ],
      "execution_count": null,
      "outputs": [
        {
          "output_type": "execute_result",
          "data": {
            "application/vnd.google.colaboratory.intrinsic+json": {
              "type": "string"
            },
            "text/plain": [
              "'E'"
            ]
          },
          "metadata": {
            "tags": []
          },
          "execution_count": 40
        }
      ]
    },
    {
      "cell_type": "markdown",
      "metadata": {
        "id": "2UbM-be-IDF3"
      },
      "source": [
        "Todas las secuencias en Python comienzan a numerarse desde 0"
      ]
    },
    {
      "cell_type": "code",
      "metadata": {
        "colab": {
          "base_uri": "https://localhost:8080/"
        },
        "id": "7kpmVXYiDSwQ",
        "outputId": "f4a2f8ec-5c88-412b-e72e-ce0f223e5167"
      },
      "source": [
        "len(T)"
      ],
      "execution_count": null,
      "outputs": [
        {
          "output_type": "execute_result",
          "data": {
            "text/plain": [
              "3"
            ]
          },
          "metadata": {
            "tags": []
          },
          "execution_count": 22
        }
      ]
    },
    {
      "cell_type": "markdown",
      "metadata": {
        "id": "Y07Izk_YCHU-"
      },
      "source": [
        "Puede haber una tupla con elementos vacios, pero debe separarse con comas"
      ]
    },
    {
      "cell_type": "code",
      "metadata": {
        "id": "aDsINlfUfyzl",
        "colab": {
          "base_uri": "https://localhost:8080/"
        },
        "outputId": "a53ec12b-ac64-4f3e-dde8-e30eac0fa1b6"
      },
      "source": [
        "(1,)\n"
      ],
      "execution_count": null,
      "outputs": [
        {
          "output_type": "execute_result",
          "data": {
            "text/plain": [
              "(1,)"
            ]
          },
          "metadata": {
            "tags": []
          },
          "execution_count": 26
        }
      ]
    },
    {
      "cell_type": "code",
      "metadata": {
        "colab": {
          "base_uri": "https://localhost:8080/"
        },
        "id": "55UhX73LEKbc",
        "outputId": "1b6a54f9-7ca7-41e1-aa05-9bcb70fa1995"
      },
      "source": [
        "(1,4)"
      ],
      "execution_count": null,
      "outputs": [
        {
          "output_type": "execute_result",
          "data": {
            "text/plain": [
              "(1, 4)"
            ]
          },
          "metadata": {
            "tags": []
          },
          "execution_count": 30
        }
      ]
    },
    {
      "cell_type": "code",
      "metadata": {
        "colab": {
          "base_uri": "https://localhost:8080/"
        },
        "id": "oguRuihrFMux",
        "outputId": "1cd59b5c-a7d5-42c1-af44-2d70f21edf45"
      },
      "source": [
        "numeros = (5,4,3,2,1,6,45,3,6,6,6,6,6)\n",
        " \n",
        "numero = int(input(\"Dame un numero: \"))\n",
        " \n",
        "contador= 0\n",
        "for i in numeros:\n",
        "    if numero == i:\n",
        "        contador = contador + 1\n",
        " \n",
        "print (\"Hay \",contador,\" repeticion/es\")"
      ],
      "execution_count": null,
      "outputs": [
        {
          "output_type": "stream",
          "text": [
            "Dame un numero: 3\n",
            "Hay  2  repeticion/es\n"
          ],
          "name": "stdout"
        }
      ]
    },
    {
      "cell_type": "markdown",
      "metadata": {
        "id": "NnrvsC4HIZsj"
      },
      "source": [
        "### 2.2 Listas"
      ]
    },
    {
      "cell_type": "markdown",
      "metadata": {
        "id": "Fqw9N5OlJmi5"
      },
      "source": [
        "Una lista es un arreglo de elementos donde podemos ingresar cualquier tipo de dato,Una lista es un arreglo de elementos donde podemos ingresar cualquier tipo de dato."
      ]
    },
    {
      "cell_type": "code",
      "metadata": {
        "id": "CYwp3MjaIiDy",
        "colab": {
          "base_uri": "https://localhost:8080/"
        },
        "outputId": "0aa020e1-59a4-4e54-ad5e-adac43f51685"
      },
      "source": [
        "lista = [1, 2.5, 'UPIITA', [5,6] ,4]\n",
        "lista"
      ],
      "execution_count": null,
      "outputs": [
        {
          "output_type": "execute_result",
          "data": {
            "text/plain": [
              "[1, 2.5, 'UPIITA', [5, 6], 4]"
            ]
          },
          "metadata": {
            "tags": []
          },
          "execution_count": 46
        }
      ]
    },
    {
      "cell_type": "code",
      "metadata": {
        "id": "nmu6-2IWIiJn",
        "colab": {
          "base_uri": "https://localhost:8080/"
        },
        "outputId": "976b31d0-a50a-430e-db3c-e2b031779102"
      },
      "source": [
        "print (lista[3])"
      ],
      "execution_count": null,
      "outputs": [
        {
          "output_type": "stream",
          "text": [
            "[5, 6]\n"
          ],
          "name": "stdout"
        }
      ]
    },
    {
      "cell_type": "code",
      "metadata": {
        "colab": {
          "base_uri": "https://localhost:8080/"
        },
        "id": "ayJoPdzIKUlX",
        "outputId": "a4116c7e-32e5-436a-fc1a-c7fc36637f24"
      },
      "source": [
        "print (lista[4])"
      ],
      "execution_count": null,
      "outputs": [
        {
          "output_type": "stream",
          "text": [
            "4\n"
          ],
          "name": "stdout"
        }
      ]
    },
    {
      "cell_type": "code",
      "metadata": {
        "colab": {
          "base_uri": "https://localhost:8080/"
        },
        "id": "UApl7FRIKYjf",
        "outputId": "ceaf6706-cd7e-4d65-afa7-dd256849d5b5"
      },
      "source": [
        "print (lista[3][1])"
      ],
      "execution_count": null,
      "outputs": [
        {
          "output_type": "stream",
          "text": [
            "6\n"
          ],
          "name": "stdout"
        }
      ]
    },
    {
      "cell_type": "code",
      "metadata": {
        "colab": {
          "base_uri": "https://localhost:8080/"
        },
        "id": "47t3dymvKck3",
        "outputId": "3c508aa9-659c-4842-d00e-667c3c06af2a"
      },
      "source": [
        "len(lista)"
      ],
      "execution_count": null,
      "outputs": [
        {
          "output_type": "execute_result",
          "data": {
            "text/plain": [
              "5"
            ]
          },
          "metadata": {
            "tags": []
          },
          "execution_count": 51
        }
      ]
    },
    {
      "cell_type": "code",
      "metadata": {
        "id": "sWPvEDv5P2ae"
      },
      "source": [
        "lista = [1, 2.5, 'UPIITA', [5,6] ,4]\n",
        "lista.append(10)\n",
        "lista"
      ],
      "execution_count": null,
      "outputs": []
    },
    {
      "cell_type": "code",
      "metadata": {
        "colab": {
          "base_uri": "https://localhost:8080/"
        },
        "id": "M5tm4llnQWgW",
        "outputId": "8a4acdd9-c788-4d5d-9d28-b899e80686a3"
      },
      "source": [
        "lista.append([1,3,4,2,5])\n",
        "lista"
      ],
      "execution_count": null,
      "outputs": [
        {
          "output_type": "execute_result",
          "data": {
            "text/plain": [
              "[1, 2.5, 'UPIITA', [5, 6], 4, [1, 3, 4, 2, 5]]"
            ]
          },
          "metadata": {
            "tags": []
          },
          "execution_count": 63
        }
      ]
    },
    {
      "cell_type": "code",
      "metadata": {
        "colab": {
          "base_uri": "https://localhost:8080/"
        },
        "id": "MnmJzwxBRIcj",
        "outputId": "e4122788-bfba-47d6-aa08-d9996a57a74b"
      },
      "source": [
        "lista.extend([4,7,\"x\"])\n",
        "lista"
      ],
      "execution_count": null,
      "outputs": [
        {
          "output_type": "execute_result",
          "data": {
            "text/plain": [
              "[1, 2.5, 'UPIITA', [5, 6], 4, [1, 3, 4, 2, 5], 4, 7, 'x', 4, 7, 'x']"
            ]
          },
          "metadata": {
            "tags": []
          },
          "execution_count": 66
        }
      ]
    },
    {
      "cell_type": "code",
      "metadata": {
        "colab": {
          "base_uri": "https://localhost:8080/"
        },
        "id": "AM4BRVzZP609",
        "outputId": "ae17df7b-bd98-4864-df90-9114ff3bc1e5"
      },
      "source": [
        "lista.remove(7)\n",
        "lista"
      ],
      "execution_count": null,
      "outputs": [
        {
          "output_type": "execute_result",
          "data": {
            "text/plain": [
              "[1, 2.5, 'UPIITA', [5, 6], 4, [1, 3, 4, 2, 5], 4, 'x', 4, 7, 'x']"
            ]
          },
          "metadata": {
            "tags": []
          },
          "execution_count": 68
        }
      ]
    },
    {
      "cell_type": "code",
      "metadata": {
        "colab": {
          "base_uri": "https://localhost:8080/"
        },
        "id": "37pA_OlRRlcY",
        "outputId": "a16b80c6-c6cd-4ba4-9bcc-c1223ac27bc5"
      },
      "source": [
        "lista.remove(\"UPIITA\")\n",
        "lista"
      ],
      "execution_count": null,
      "outputs": [
        {
          "output_type": "execute_result",
          "data": {
            "text/plain": [
              "[1, 2.5, [5, 6], 4, [1, 3, 4, 2, 5], 4, 'x', 4, 7, 'x']"
            ]
          },
          "metadata": {
            "tags": []
          },
          "execution_count": 69
        }
      ]
    },
    {
      "cell_type": "code",
      "metadata": {
        "colab": {
          "base_uri": "https://localhost:8080/"
        },
        "id": "43b-COl1T8LT",
        "outputId": "4e235c57-4115-43cf-90a6-daa6fb985446"
      },
      "source": [
        "lista.index(\"x\")"
      ],
      "execution_count": null,
      "outputs": [
        {
          "output_type": "execute_result",
          "data": {
            "text/plain": [
              "6"
            ]
          },
          "metadata": {
            "tags": []
          },
          "execution_count": 71
        }
      ]
    },
    {
      "cell_type": "code",
      "metadata": {
        "colab": {
          "base_uri": "https://localhost:8080/"
        },
        "id": "55b5W237UyP6",
        "outputId": "63db2afa-01df-4000-ba69-3b0300a6e1a3"
      },
      "source": [
        "lista.count(4)\n"
      ],
      "execution_count": null,
      "outputs": [
        {
          "output_type": "execute_result",
          "data": {
            "text/plain": [
              "3"
            ]
          },
          "metadata": {
            "tags": []
          },
          "execution_count": 74
        }
      ]
    },
    {
      "cell_type": "markdown",
      "metadata": {
        "id": "3sOhCOE5IfRA"
      },
      "source": [
        "### 2.3 Diccionarios"
      ]
    },
    {
      "cell_type": "markdown",
      "metadata": {
        "id": "Gz8o7ho4Vou0"
      },
      "source": [
        "El diccionario, define una relación uno a uno entre claves y valores."
      ]
    },
    {
      "cell_type": "code",
      "metadata": {
        "id": "K6wty2YAIncd",
        "colab": {
          "base_uri": "https://localhost:8080/"
        },
        "outputId": "8c6f17b6-c29d-4239-9949-d30cef3d9bf4"
      },
      "source": [
        "{'python': 27, 'plone': 51}"
      ],
      "execution_count": null,
      "outputs": [
        {
          "output_type": "execute_result",
          "data": {
            "text/plain": [
              "{'plone': 51, 'python': 27}"
            ]
          },
          "metadata": {
            "tags": []
          },
          "execution_count": 75
        }
      ]
    },
    {
      "cell_type": "code",
      "metadata": {
        "id": "kq0a3H_uVxfk"
      },
      "source": [
        "Diccionario={\n",
        "    \"k1\":4,\n",
        "    \"k2\":True,\n",
        "    \"k3\":\"Valor 1\",\n",
        "    \"k4\":[1,2,3,4]}"
      ],
      "execution_count": null,
      "outputs": []
    },
    {
      "cell_type": "code",
      "metadata": {
        "colab": {
          "base_uri": "https://localhost:8080/",
          "height": 35
        },
        "id": "538CJARmWQDG",
        "outputId": "f4f223c0-2850-4603-d593-13b4ae84b9ec"
      },
      "source": [
        "Diccionario['k3']"
      ],
      "execution_count": null,
      "outputs": [
        {
          "output_type": "execute_result",
          "data": {
            "application/vnd.google.colaboratory.intrinsic+json": {
              "type": "string"
            },
            "text/plain": [
              "'Valor 1'"
            ]
          },
          "metadata": {
            "tags": []
          },
          "execution_count": 81
        }
      ]
    },
    {
      "cell_type": "markdown",
      "metadata": {
        "id": "J2o1Dw7UW6zP"
      },
      "source": [
        "Un diccionario puede almacenar los diversos tipos de datos integrados en Python"
      ]
    },
    {
      "cell_type": "code",
      "metadata": {
        "colab": {
          "base_uri": "https://localhost:8080/"
        },
        "id": "CeTkSUf0WnzW",
        "outputId": "4f1e5ffd-df6a-4a6c-8a35-5ba94b55fda7"
      },
      "source": [
        "type(Diccionario['k2'])\n"
      ],
      "execution_count": null,
      "outputs": [
        {
          "output_type": "execute_result",
          "data": {
            "text/plain": [
              "bool"
            ]
          },
          "metadata": {
            "tags": []
          },
          "execution_count": 83
        }
      ]
    },
    {
      "cell_type": "code",
      "metadata": {
        "colab": {
          "base_uri": "https://localhost:8080/"
        },
        "id": "Miynctk2X04a",
        "outputId": "c0a08b65-8dd2-4d59-a2ef-e825b8ff1b72"
      },
      "source": [
        "dict(Etiqueta1=2.7,Etiqueta2=2.13, Etiqueta3=5.1,Etiqueta4=2.1)"
      ],
      "execution_count": 84,
      "outputs": [
        {
          "output_type": "execute_result",
          "data": {
            "text/plain": [
              "{'Etiqueta1': 2.7, 'Etiqueta2': 2.13, 'Etiqueta3': 5.1, 'Etiqueta4': 2.1}"
            ]
          },
          "metadata": {
            "tags": []
          },
          "execution_count": 84
        }
      ]
    },
    {
      "cell_type": "code",
      "metadata": {
        "colab": {
          "base_uri": "https://localhost:8080/"
        },
        "id": "nVxWK58dYAaS",
        "outputId": "af0ea652-7a54-4fdc-c4b2-eb9952d04b10"
      },
      "source": [
        "Dic=dict(Etiqueta1=2.7,Etiqueta2=2.13, Etiqueta3=5.1,Etiqueta4=2.1)\n",
        "\"Etiqueta1\" in Dic"
      ],
      "execution_count": 86,
      "outputs": [
        {
          "output_type": "execute_result",
          "data": {
            "text/plain": [
              "True"
            ]
          },
          "metadata": {
            "tags": []
          },
          "execution_count": 86
        }
      ]
    },
    {
      "cell_type": "code",
      "metadata": {
        "colab": {
          "base_uri": "https://localhost:8080/"
        },
        "id": "BxwsBHEHYU27",
        "outputId": "631dee63-2e27-4e10-83f4-8095eead0842"
      },
      "source": [
        "'Etiqueta4' in Dic"
      ],
      "execution_count": 88,
      "outputs": [
        {
          "output_type": "execute_result",
          "data": {
            "text/plain": [
              "True"
            ]
          },
          "metadata": {
            "tags": []
          },
          "execution_count": 88
        }
      ]
    },
    {
      "cell_type": "code",
      "metadata": {
        "colab": {
          "base_uri": "https://localhost:8080/"
        },
        "id": "VLmwm6HDY8tD",
        "outputId": "214f8318-f1a3-4ca6-8ee5-95b8a3c69aef"
      },
      "source": [
        "Dic.get('Etiqueta3')"
      ],
      "execution_count": 89,
      "outputs": [
        {
          "output_type": "execute_result",
          "data": {
            "text/plain": [
              "5.1"
            ]
          },
          "metadata": {
            "tags": []
          },
          "execution_count": 89
        }
      ]
    },
    {
      "cell_type": "code",
      "metadata": {
        "colab": {
          "base_uri": "https://localhost:8080/"
        },
        "id": "J-z-v56nZMHe",
        "outputId": "fa72afd7-0053-4ef7-c57e-1b749978350a"
      },
      "source": [
        "Dic.items()"
      ],
      "execution_count": 90,
      "outputs": [
        {
          "output_type": "execute_result",
          "data": {
            "text/plain": [
              "dict_items([('Etiqueta1', 2.7), ('Etiqueta2', 2.13), ('Etiqueta3', 5.1), ('Etiqueta4', 2.1)])"
            ]
          },
          "metadata": {
            "tags": []
          },
          "execution_count": 90
        }
      ]
    }
  ]
}