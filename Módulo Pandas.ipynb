{
 "cells": [
  {
   "cell_type": "markdown",
   "metadata": {},
   "source": [
    "# PANDAS\n",
    "\n",
    "Para trabajar con bases de datos tabulares, por ejemplo en hojas de cálculo y bases de datos, pandas es la herramienta ideal, ayuda en la exploración, limpiado y procesamiento de los datos."
   ]
  },
  {
   "cell_type": "markdown",
   "metadata": {},
   "source": [
    "### Instalación\n",
    "Para instalar pandas hacemos uso de pip, podemos revisar si ya esta instalado por medio de:\n",
    "    \n",
    "    pip show pandas\n",
    "    \n",
    "Lo que debería mostrar:\n",
    "    \n",
    "    Name: pandas\n",
    "    Version: 1.1.2\n",
    "    Summary: Powerful data structures for data analysis, time series, and statistics\n",
    "    Home-page: https://pandas.pydata.org\n",
    "    Author: None\n",
    "    ...\n",
    "\n",
    "En caso de no tenerlo instalado se usará:\n",
    "\n",
    "    pip install pandas"
   ]
  },
  {
   "cell_type": "code",
   "execution_count": null,
   "metadata": {},
   "outputs": [],
   "source": [
    "import pandas as pd"
   ]
  },
  {
   "cell_type": "markdown",
   "metadata": {},
   "source": [
    "### Estructuras de Datos\n",
    "*Series*: Las series son un arreglo unidimensional capaz de almacenar cualquier tipo de datos, las etiquetas son mejor referidas como índice (index)."
   ]
  },
  {
   "cell_type": "code",
   "execution_count": null,
   "metadata": {},
   "outputs": [],
   "source": [
    "data = [1, 2, 3, 4, 5]\n",
    "index = [\"Uno\", \"Dos\", \"Tres\", \"Cuatro\", \"Cinco\"]\n",
    "s = pd.Series(data, index=None)\n",
    "s"
   ]
  },
  {
   "cell_type": "code",
   "execution_count": null,
   "metadata": {},
   "outputs": [],
   "source": [
    "data = {\"Uno\": 1, \"Dos\": 2, \"Tres\": 3, \"Cuatro\": 4, \"Cinco\": 5}\n",
    "s = pd.Series(data)\n",
    "s"
   ]
  },
  {
   "cell_type": "code",
   "execution_count": null,
   "metadata": {},
   "outputs": [],
   "source": [
    "s * 2"
   ]
  },
  {
   "cell_type": "markdown",
   "metadata": {
    "execution": {
     "iopub.execute_input": "2020-10-16T16:17:24.121595Z",
     "iopub.status.busy": "2020-10-16T16:17:24.121595Z",
     "iopub.status.idle": "2020-10-16T16:17:24.142580Z",
     "shell.execute_reply": "2020-10-16T16:17:24.141579Z",
     "shell.execute_reply.started": "2020-10-16T16:17:24.121595Z"
    }
   },
   "source": [
    "*DataFrames*: Un Dataframe es una estructura bidimensional de datos etiquetados, con columnas de potencialmente diferentes tipos de datos. Una analogía funcional es pensar en un DataFrame como una hoja de cálculo."
   ]
  },
  {
   "cell_type": "code",
   "execution_count": null,
   "metadata": {},
   "outputs": [],
   "source": [
    "d1 = {'one': pd.Series([1., 2., 3.], index=['a', 'b', 'c']),\n",
    "     'two': pd.Series([1., 2., 3., 4.], index=['a', 'b', 'c', 'd'])}\n",
    "\n",
    "d2 = {'one': [1., 2., 3., 4.],\n",
    "     'two': [\"J\", \"B\", \"A\", \"C\"]}\n",
    "\n",
    "l1 = [(\"a\", 1, True), (\"b\", 2, False), (\"c\", 3, True)]\n",
    "columns = [\"String\", \"Number\", \"Boolean\"]\n",
    "\n",
    "df = pd.DataFrame(l1, columns=columns)\n",
    "df"
   ]
  },
  {
   "cell_type": "markdown",
   "metadata": {
    "execution": {
     "iopub.execute_input": "2020-10-16T17:28:16.840073Z",
     "iopub.status.busy": "2020-10-16T17:28:16.839065Z",
     "iopub.status.idle": "2020-10-16T17:28:16.845059Z",
     "shell.execute_reply": "2020-10-16T17:28:16.844058Z",
     "shell.execute_reply.started": "2020-10-16T17:28:16.840073Z"
    }
   },
   "source": [
    "Un dataframe tambien permite realizar operaciones:"
   ]
  },
  {
   "cell_type": "code",
   "execution_count": null,
   "metadata": {},
   "outputs": [],
   "source": [
    "df * 2"
   ]
  },
  {
   "cell_type": "code",
   "execution_count": null,
   "metadata": {},
   "outputs": [],
   "source": [
    "df[\"Number\"] = df[\"Number\"] * 50\n",
    "df"
   ]
  },
  {
   "cell_type": "markdown",
   "metadata": {
    "execution": {
     "iopub.execute_input": "2020-10-16T16:33:43.556078Z",
     "iopub.status.busy": "2020-10-16T16:33:43.555080Z",
     "iopub.status.idle": "2020-10-16T16:33:43.561077Z",
     "shell.execute_reply": "2020-10-16T16:33:43.560096Z",
     "shell.execute_reply.started": "2020-10-16T16:33:43.555080Z"
    }
   },
   "source": [
    "### Lectura de Datos\n",
    "\n",
    "Se pueden obtener los datos de archivos separados por comas (csv) de dos maneras:"
   ]
  },
  {
   "cell_type": "code",
   "execution_count": null,
   "metadata": {},
   "outputs": [],
   "source": [
    "# Accediendo al archivo directamente\n",
    "pd.read_csv(\"cities.csv\")"
   ]
  },
  {
   "cell_type": "code",
   "execution_count": null,
   "metadata": {},
   "outputs": [],
   "source": [
    "# Accediendo a un URL del csv directamente\n",
    "pd.read_csv(\"https://raw.githubusercontent.com/YoungOak/ALBION/master/covid19_v2.csv\")"
   ]
  },
  {
   "cell_type": "markdown",
   "metadata": {},
   "source": [
    "### Visualizando información de un DataFrame"
   ]
  },
  {
   "cell_type": "code",
   "execution_count": null,
   "metadata": {},
   "outputs": [],
   "source": [
    "df = pd.read_csv(\"cities.csv\")\n",
    "df.head()"
   ]
  },
  {
   "cell_type": "code",
   "execution_count": null,
   "metadata": {},
   "outputs": [],
   "source": [
    "df.tail(3)"
   ]
  },
  {
   "cell_type": "code",
   "execution_count": null,
   "metadata": {},
   "outputs": [],
   "source": [
    "df.columns"
   ]
  },
  {
   "cell_type": "code",
   "execution_count": null,
   "metadata": {},
   "outputs": [],
   "source": [
    "df.index"
   ]
  },
  {
   "cell_type": "code",
   "execution_count": null,
   "metadata": {},
   "outputs": [],
   "source": [
    "df.describe()"
   ]
  },
  {
   "cell_type": "markdown",
   "metadata": {},
   "source": [
    "### Indexando y ordenando datos"
   ]
  },
  {
   "cell_type": "markdown",
   "metadata": {},
   "source": [
    "Indexar nos permite acceder sólo a los datos del dataframe que nos importan."
   ]
  },
  {
   "cell_type": "code",
   "execution_count": null,
   "metadata": {},
   "outputs": [],
   "source": [
    "df = pd.read_csv(\"https://raw.githubusercontent.com/YoungOak/ALBION/master/covid19_v2.csv\")\n",
    "df.head()"
   ]
  },
  {
   "cell_type": "code",
   "execution_count": null,
   "metadata": {},
   "outputs": [],
   "source": [
    "df.loc[0, [\"fecha\", \"estado\"]]"
   ]
  },
  {
   "cell_type": "code",
   "execution_count": null,
   "metadata": {},
   "outputs": [],
   "source": [
    "# Obtención de una sola columna\n",
    "\n",
    "df1 = df[\"fecha\"]\n",
    "# Al pedir sólo una columna retorna un objeto tipo Serie\n",
    "# type(df1) >> pandas.core.series.Series\n",
    "\n",
    "\n",
    "# Obtención de múltiples columnas ordenadas\n",
    "df2 = df[[\"fecha\", \"casos\"]]\n",
    "# Al usar una lista de strings para exrtaer columnas, el objeto\n",
    "# que retorna es tipo DataFrame.\n",
    "# type(df2) >> pandas.core.frame.DataFrame\n",
    "\n",
    "\n",
    "# Por índices numéricos:\n",
    "df3 = df[0:10]\n",
    "# Retorna la seccion seleccionada en filas completas del DataFrame"
   ]
  },
  {
   "cell_type": "markdown",
   "metadata": {},
   "source": [
    "Métodos de extracción"
   ]
  },
  {
   "cell_type": "code",
   "execution_count": null,
   "metadata": {},
   "outputs": [],
   "source": [
    "# loc ~ Locate : Puede usar las etiquetas para encontrar un dato.\n",
    "dfA = df.loc[0, \"casos\"]\n",
    "dfA"
   ]
  },
  {
   "cell_type": "code",
   "execution_count": null,
   "metadata": {},
   "outputs": [],
   "source": [
    "# iloc ~ integer Locate : Usa índices numéricos para encontrar datos.\n",
    "dfB = df.iloc[0, 2]\n",
    "dfB"
   ]
  },
  {
   "cell_type": "markdown",
   "metadata": {},
   "source": [
    "Ordenando tus datos"
   ]
  },
  {
   "cell_type": "code",
   "execution_count": null,
   "metadata": {},
   "outputs": [],
   "source": [
    "df.head()"
   ]
  },
  {
   "cell_type": "code",
   "execution_count": null,
   "metadata": {},
   "outputs": [],
   "source": [
    "df.sort_values(by=\"casos\", ascending=True)"
   ]
  },
  {
   "cell_type": "markdown",
   "metadata": {
    "execution": {
     "iopub.execute_input": "2020-10-16T17:08:55.500389Z",
     "iopub.status.busy": "2020-10-16T17:08:55.500389Z",
     "iopub.status.idle": "2020-10-16T17:08:55.506392Z",
     "shell.execute_reply": "2020-10-16T17:08:55.505409Z",
     "shell.execute_reply.started": "2020-10-16T17:08:55.500389Z"
    }
   },
   "source": [
    "#### Indexado condicional"
   ]
  },
  {
   "cell_type": "code",
   "execution_count": null,
   "metadata": {},
   "outputs": [],
   "source": [
    "df[ df[\"estado\"] != \"Nacional\" ].tail(3)"
   ]
  },
  {
   "cell_type": "code",
   "execution_count": null,
   "metadata": {},
   "outputs": [],
   "source": [
    "df[\"estado\"] != \"Nacional\""
   ]
  },
  {
   "cell_type": "code",
   "execution_count": null,
   "metadata": {},
   "outputs": [],
   "source": [
    "DF_estados = df[ df[\"estado\"] != \"Nacional\" ]\n",
    "DF_estados.sort_values(by=\"casos\", ascending=False)"
   ]
  },
  {
   "cell_type": "code",
   "execution_count": null,
   "metadata": {},
   "outputs": [],
   "source": [
    "# El dataframe ahora está ordenado con lo que se hizo en la última cleda?\n",
    "DF_estados"
   ]
  },
  {
   "cell_type": "markdown",
   "metadata": {},
   "source": [
    "NO!"
   ]
  },
  {
   "cell_type": "code",
   "execution_count": null,
   "metadata": {},
   "outputs": [],
   "source": [
    "# Esto sucede porque la operación regresa un nuevo DataFrame\n",
    "# Para guardar el dataframe ordenado podemos reescribir el dataframe"
   ]
  },
  {
   "cell_type": "code",
   "execution_count": null,
   "metadata": {},
   "outputs": [],
   "source": [
    "DF_estados = DF_estados.sort_values(by=\"casos\", ascending=False)\n",
    "DF_estados.head()"
   ]
  },
  {
   "cell_type": "markdown",
   "metadata": {},
   "source": [
    "#### Otras formas de indexar con múltiples condiciones:"
   ]
  },
  {
   "cell_type": "code",
   "execution_count": null,
   "metadata": {},
   "outputs": [],
   "source": [
    "DF_estados[ (DF_estados[\"estado\"] == \"ZACATECAS\") &\n",
    "            (DF_estados[\"casos\"] > 1) ].head(5)"
   ]
  },
  {
   "cell_type": "code",
   "execution_count": null,
   "metadata": {},
   "outputs": [],
   "source": [
    "DF_estados.head()"
   ]
  },
  {
   "cell_type": "code",
   "execution_count": null,
   "metadata": {},
   "outputs": [],
   "source": [
    "DF_estados = DF_estados.reset_index().head()\n",
    "DF_estados"
   ]
  },
  {
   "cell_type": "markdown",
   "metadata": {
    "execution": {
     "iopub.execute_input": "2020-10-16T17:18:16.926430Z",
     "iopub.status.busy": "2020-10-16T17:18:16.926430Z",
     "iopub.status.idle": "2020-10-16T17:18:16.937427Z",
     "shell.execute_reply": "2020-10-16T17:18:16.937427Z",
     "shell.execute_reply.started": "2020-10-16T17:18:16.926430Z"
    }
   },
   "source": [
    "### Manejo de Fechas\n",
    "\n",
    "Veamos cómo manipular la columna de fechas que tenemos"
   ]
  },
  {
   "cell_type": "code",
   "execution_count": null,
   "metadata": {},
   "outputs": [],
   "source": [
    "DF_estados[0:2]"
   ]
  },
  {
   "cell_type": "code",
   "execution_count": null,
   "metadata": {},
   "outputs": [],
   "source": [
    "print(\n",
    "    DF_estados.loc[0, \"fecha\"],\n",
    "    type(DF_estados.loc[0, \"fecha\"]),\n",
    "    sep=\"\\n\")"
   ]
  },
  {
   "cell_type": "markdown",
   "metadata": {},
   "source": [
    "Como se puede ver, el tipo de dato de las fechas es un arreglo de caracteres, o bien un string. Tener de esta forma los datos no le permite a pandas compararlos entre sí para determinar cual va primero y cual va después."
   ]
  },
  {
   "cell_type": "code",
   "execution_count": null,
   "metadata": {},
   "outputs": [],
   "source": [
    "DF_estados[\"fecha\"]"
   ]
  },
  {
   "cell_type": "markdown",
   "metadata": {},
   "source": [
    "con el método: to_datetime vamos a transformar estos datos a algo que el sistema pueda reconocer:"
   ]
  },
  {
   "cell_type": "code",
   "execution_count": null,
   "metadata": {},
   "outputs": [],
   "source": [
    "pd.to_datetime(DF_estados[\"fecha\"], format=\"%Y-%m-%d\")"
   ]
  },
  {
   "cell_type": "code",
   "execution_count": null,
   "metadata": {},
   "outputs": [],
   "source": [
    "pd.to_datetime(DF_estados[\"fecha\"])[668].day"
   ]
  },
  {
   "cell_type": "code",
   "execution_count": null,
   "metadata": {},
   "outputs": [],
   "source": [
    "DF_estados[\"fecha\"] = pd.to_datetime(DF_estados[\"fecha\"], format=\"%Y-%m-%d\")\n",
    "print(\n",
    "    DF_estados.loc[0, \"fecha\"],\n",
    "    type(DF_estados.loc[0, \"fecha\"]),\n",
    "    sep=\"\\n\")"
   ]
  },
  {
   "cell_type": "code",
   "execution_count": null,
   "metadata": {},
   "outputs": [],
   "source": []
  },
  {
   "cell_type": "code",
   "execution_count": null,
   "metadata": {},
   "outputs": [],
   "source": []
  },
  {
   "cell_type": "code",
   "execution_count": null,
   "metadata": {},
   "outputs": [],
   "source": []
  }
 ],
 "metadata": {
  "kernelspec": {
   "display_name": "Python 3",
   "language": "python",
   "name": "python3"
  },
  "language_info": {
   "codemirror_mode": {
    "name": "ipython",
    "version": 3
   },
   "file_extension": ".py",
   "mimetype": "text/x-python",
   "name": "python",
   "nbconvert_exporter": "python",
   "pygments_lexer": "ipython3",
   "version": "3.8.3"
  }
 },
 "nbformat": 4,
 "nbformat_minor": 4
}
