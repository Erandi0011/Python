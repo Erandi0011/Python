{
  "nbformat": 4,
  "nbformat_minor": 0,
  "metadata": {
    "colab": {
      "name": "Introduccion.ipynb",
      "provenance": [],
      "collapsed_sections": [],
      "include_colab_link": true
    },
    "kernelspec": {
      "display_name": "Python 3",
      "language": "python",
      "name": "python3"
    },
    "language_info": {
      "codemirror_mode": {
        "name": "ipython",
        "version": 3
      },
      "file_extension": ".py",
      "mimetype": "text/x-python",
      "name": "python",
      "nbconvert_exporter": "python",
      "pygments_lexer": "ipython3",
      "version": "3.8.3"
    }
  },
  "cells": [
    {
      "cell_type": "markdown",
      "metadata": {
        "id": "view-in-github",
        "colab_type": "text"
      },
      "source": [
        "<a href=\"https://colab.research.google.com/github/Erandi0011/Python/blob/main/IntroduccionYEnsayoFinal.ipynb\" target=\"_parent\"><img src=\"https://colab.research.google.com/assets/colab-badge.svg\" alt=\"Open In Colab\"/></a>"
      ]
    },
    {
      "cell_type": "markdown",
      "metadata": {
        "id": "WWq7hwQUfyy1"
      },
      "source": [
        "# Python 1\n",
        "## Introducción a Python con Google Colaboratory"
      ]
    },
    {
      "cell_type": "markdown",
      "metadata": {
        "id": "vvJMgJ0N3wa4"
      },
      "source": [
        ""
      ]
    },
    {
      "cell_type": "markdown",
      "metadata": {
        "id": "KcKiC7grZZu_"
      },
      "source": [
        "<img src='https://upload.wikimedia.org/wikipedia/commons/thumb/0/0a/Python.svg/1200px-Python.svg.png' alt='python-logo' height='200' width='200'></img>\n",
        "<p style='text-align: justify'>"
      ]
    },
    {
      "cell_type": "markdown",
      "metadata": {
        "id": "DvSHq_-TfyzC"
      },
      "source": [
        "Instalación de los programas, y algunas recomendaciones\n",
        "https://www.anaconda.com/products/individual"
      ]
    },
    {
      "cell_type": "markdown",
      "metadata": {
        "id": "b1Bb9X96fyzD"
      },
      "source": [
        "¿Por qué Pyhton?\n",
        "Python es un lenguaje de programación de propósito general muy poderoso y flexible, a la vez que sencillo y fácil de aprender. Es un lenguaje de alto nivel, que permite procesar fácilmente todo tipo de estructuras de datos, tanto numéricos como de texto."
      ]
    },
    {
      "cell_type": "markdown",
      "metadata": {
        "id": "RYe7aUXlfyzE"
      },
      "source": [
        "## 1.Variables\n"
      ]
    },
    {
      "cell_type": "markdown",
      "metadata": {
        "id": "jqzpns8fpIpY"
      },
      "source": [
        "### 1.1 Tipo de datos"
      ]
    },
    {
      "cell_type": "code",
      "metadata": {
        "id": "uCwUt_MAfyzF"
      },
      "source": [
        "#Escribamos algunos datos\n",
        "\n"
      ],
      "execution_count": null,
      "outputs": []
    },
    {
      "cell_type": "code",
      "metadata": {
        "id": "zCFTYIn2fyzG"
      },
      "source": [
        "#Mostremos los datos"
      ],
      "execution_count": null,
      "outputs": []
    },
    {
      "cell_type": "code",
      "metadata": {
        "id": "yJ4U1dixfyzI"
      },
      "source": [
        "#¿Qué tipo de dato es?"
      ],
      "execution_count": null,
      "outputs": []
    },
    {
      "cell_type": "code",
      "metadata": {
        "id": "bHCqiXptfyzI"
      },
      "source": [
        "#Todos escriban Hola mundo y su nombre y guardenlo en una variable\n"
      ],
      "execution_count": null,
      "outputs": []
    },
    {
      "cell_type": "markdown",
      "metadata": {
        "id": "NBn1-GoT9BMF"
      },
      "source": [
        "### 1.2 Operaciones"
      ]
    },
    {
      "cell_type": "markdown",
      "metadata": {
        "id": "eMCW6Y8H_Fcp"
      },
      "source": [
        "Las cuatro operaciones aritméticas básicas son la suma (+), la resta (-), la multiplicación (*) y la división (/)."
      ]
    },
    {
      "cell_type": "code",
      "metadata": {
        "id": "OJksTNm-DcGq"
      },
      "source": [
        ""
      ],
      "execution_count": null,
      "outputs": []
    },
    {
      "cell_type": "code",
      "metadata": {
        "id": "lgK3XPUkDcVr"
      },
      "source": [
        ""
      ],
      "execution_count": null,
      "outputs": []
    },
    {
      "cell_type": "markdown",
      "metadata": {
        "id": "yzHAP7fEDciR"
      },
      "source": [
        "División entera (//)"
      ]
    },
    {
      "cell_type": "code",
      "metadata": {
        "id": "ftKictCyDgNv"
      },
      "source": [
        ""
      ],
      "execution_count": null,
      "outputs": []
    },
    {
      "cell_type": "markdown",
      "metadata": {
        "id": "ZExRvGovZ4eg"
      },
      "source": [
        "<h3>Exponente</h3>\n",
        "    <p>Dependiendo de que tipo de dato estemos ocupando el operador exponente se comportara diferente forma\n",
        "    <br>Ejemplo: \n",
        "    <br>- 2 enteros\n",
        "    <br>- 2 float\n",
        "    <br>- 2 booleano\n",
        "    <br>- 2 cadenas de caracteres\n",
        "    <br>- Multiplicar cadenas por un entero\n",
        "    <br>- Notación científica\n",
        "</p>"
      ]
    },
    {
      "cell_type": "code",
      "metadata": {
        "id": "wQ6tv5G0Z7ld"
      },
      "source": [
        "#Con 2 enteros \n"
      ],
      "execution_count": null,
      "outputs": []
    },
    {
      "cell_type": "code",
      "metadata": {
        "id": "yr473i0gaErD"
      },
      "source": [
        "#Con 2 float \n"
      ],
      "execution_count": null,
      "outputs": []
    },
    {
      "cell_type": "code",
      "metadata": {
        "id": "1J_7iUxqaE58"
      },
      "source": [
        "#También podemos tener expresiones como 40X10^4 para ahorrarnos escriir los ceros\n",
        "#Esto se puede hacer poniendo la letra E/e seguida de un numero que representa el exponente.\n",
        "\n"
      ],
      "execution_count": null,
      "outputs": []
    },
    {
      "cell_type": "code",
      "metadata": {
        "id": "3ri0cCyEaFE9"
      },
      "source": [
        "#Con 2 Booleanos, observemos que pasa\n",
        "\n",
        "#Recordemos que 0 a la 0 es 1, pero 0 a la 1, es 0"
      ],
      "execution_count": null,
      "outputs": []
    },
    {
      "cell_type": "code",
      "metadata": {
        "id": "Qub9z-NeBRV7"
      },
      "source": [
        "#raices"
      ],
      "execution_count": null,
      "outputs": []
    },
    {
      "cell_type": "code",
      "metadata": {
        "id": "oWFFUy7sD3tm"
      },
      "source": [
        "#Raiz cuadrada "
      ],
      "execution_count": null,
      "outputs": []
    },
    {
      "cell_type": "markdown",
      "metadata": {
        "id": "iMxToG2lxSse"
      },
      "source": [
        "<h3>Modulo</h3>\n",
        "<p>Cuando hacemos la division exacta no tenemos en cuenta el residuo ,la operacion mudulo lo unico que no regresa es ese residuo por ejemplo en la division 10 / 3 el '3' cabe '3' en el 10 y sobra '1' , la operacion division entera nos regresara el '3' y el modulo nos regresara el '1'</p>"
      ]
    },
    {
      "cell_type": "code",
      "metadata": {
        "colab": {
          "base_uri": "https://localhost:8080/"
        },
        "id": "EhNqa0umyCQ8",
        "outputId": "caed4c09-e3fb-42fc-97b6-67eccfe56ecc"
      },
      "source": [
        "10 % 3"
      ],
      "execution_count": null,
      "outputs": [
        {
          "output_type": "execute_result",
          "data": {
            "text/plain": [
              "1"
            ]
          },
          "metadata": {
            "tags": []
          },
          "execution_count": 7
        }
      ]
    },
    {
      "cell_type": "markdown",
      "metadata": {
        "id": "vY2cdWyh0nEL"
      },
      "source": [
        "<h3>Operadores logicos </h3>\n",
        "<p>Son los distintos tipos de operadores con los que puede trabajar con valores booleanos, sigue las reglas del algebra de Boole</p>\n",
        "<ul>\n",
        "<li>Operador AND: Se puede declarar de dos maneras, escribiendo 'and' o '&&'</li>\n",
        "<li>Operador OR: Se puede declarar de dos maneras, escribiendo 'or' o '|'</li>\n",
        "<li>Operador NOT: Se declara escribiendo \"not\"</li>\n",
        "</ul>\n",
        "<p>Nota: No incluir las comillas, estarias trabajando con una cadena, no con el operador</p>\n",
        "<center>\n",
        "<img src = 'https://image.slidesharecdn.com/circuitoscombinatoriosyalgebrabooleanaa-140217091808-phpapp01/95/circuitos-combinatorios-y-algebra-booleana-11-638.jpg?cb=1392628712'\n",
        "alt = 'DSC' height = '350' width = '550'>\n",
        "</center>"
      ]
    },
    {
      "cell_type": "code",
      "metadata": {
        "id": "GFHD8Bpn0mdc"
      },
      "source": [
        "#Con expresiones booleanas, se cumple la compuerta AND\n",
        "\n",
        "#Notosé que no imprime 1's y 0's como en la multiplicación"
      ],
      "execution_count": null,
      "outputs": []
    },
    {
      "cell_type": "code",
      "metadata": {
        "id": "lJaC7r8g0YCK"
      },
      "source": [
        "#Compuerta OR\n"
      ],
      "execution_count": null,
      "outputs": []
    },
    {
      "cell_type": "code",
      "metadata": {
        "colab": {
          "base_uri": "https://localhost:8080/",
          "height": 181
        },
        "id": "5mmQEhJZfyzM",
        "outputId": "e5c60050-f20b-4f0e-8651-126b45f8d2c5"
      },
      "source": [
        "b=5\n",
        "a>b"
      ],
      "execution_count": null,
      "outputs": [
        {
          "output_type": "error",
          "ename": "NameError",
          "evalue": "ignored",
          "traceback": [
            "\u001b[0;31m---------------------------------------------------------------------------\u001b[0m",
            "\u001b[0;31mNameError\u001b[0m                                 Traceback (most recent call last)",
            "\u001b[0;32m<ipython-input-10-c9cdc81b59e6>\u001b[0m in \u001b[0;36m<module>\u001b[0;34m()\u001b[0m\n\u001b[1;32m      1\u001b[0m \u001b[0mb\u001b[0m\u001b[0;34m=\u001b[0m\u001b[0;36m5\u001b[0m\u001b[0;34m\u001b[0m\u001b[0;34m\u001b[0m\u001b[0m\n\u001b[0;32m----> 2\u001b[0;31m \u001b[0ma\u001b[0m\u001b[0;34m>\u001b[0m\u001b[0mb\u001b[0m\u001b[0;34m\u001b[0m\u001b[0;34m\u001b[0m\u001b[0m\n\u001b[0m",
            "\u001b[0;31mNameError\u001b[0m: name 'a' is not defined"
          ]
        }
      ]
    },
    {
      "cell_type": "code",
      "metadata": {
        "id": "KNaQkhiKfyzN"
      },
      "source": [
        "#¡Que pasa si sumamos dos valor de tipo cadena"
      ],
      "execution_count": null,
      "outputs": []
    },
    {
      "cell_type": "code",
      "metadata": {
        "id": "w2m6CZZOfyzO"
      },
      "source": [
        "#Cómo podemos ver un dato específuco de una cadena"
      ],
      "execution_count": null,
      "outputs": []
    },
    {
      "cell_type": "code",
      "metadata": {
        "id": "vv3nAPDXfyzQ"
      },
      "source": [
        "#Vamos a definir una variable de tipo string "
      ],
      "execution_count": null,
      "outputs": []
    },
    {
      "cell_type": "code",
      "metadata": {
        "id": "ImdvSuhafyzQ"
      },
      "source": [
        "#Como ver varios datos de una cadena\n"
      ],
      "execution_count": null,
      "outputs": []
    },
    {
      "cell_type": "markdown",
      "metadata": {
        "id": "cTP_Oj8qfyzS"
      },
      "source": [
        "### 1.3 Palabras reservadas\n",
        "\n",
        "\n",
        "\n"
      ]
    },
    {
      "cell_type": "markdown",
      "metadata": {
        "id": "DkWFxE8MfyzS"
      },
      "source": [
        "Existen ciertas palabras que tienen significado especial para el intérprete de Python. Estas no pueden utilizarse para ningún otro fin"
      ]
    },
    {
      "cell_type": "markdown",
      "metadata": {
        "id": "UPYAt-MKfyzS"
      },
      "source": [
        "Algunas de ellas son: \n",
        "\n",
        "and\n",
        "as\n",
        "assert\n",
        "break\n",
        "class\n",
        "continue\n",
        "if\n",
        "elif\n",
        "else\n",
        "except"
      ]
    },
    {
      "cell_type": "markdown",
      "metadata": {
        "id": "8gUejMwHfyzT"
      },
      "source": [
        "Para verificar si una palabra esta reservada utilizando el módulo integrado keyword"
      ]
    },
    {
      "cell_type": "code",
      "metadata": {
        "id": "1uM4HSL6fyzT",
        "outputId": "618df9df-415d-4e07-bb21-efd011018ed4"
      },
      "source": [
        "import keyword\n",
        "keyword.iskeyword('as')"
      ],
      "execution_count": null,
      "outputs": [
        {
          "output_type": "execute_result",
          "data": {
            "text/plain": [
              "True"
            ]
          },
          "metadata": {
            "tags": []
          },
          "execution_count": 29
        }
      ]
    },
    {
      "cell_type": "markdown",
      "metadata": {
        "id": "4DlFFHT6fyzT"
      },
      "source": [
        "Para obtener una lista de todas las palabras reservadas"
      ]
    },
    {
      "cell_type": "code",
      "metadata": {
        "id": "gcp5aS2RfyzT"
      },
      "source": [
        "#keyword.kwlist"
      ],
      "execution_count": null,
      "outputs": []
    },
    {
      "cell_type": "markdown",
      "metadata": {
        "id": "XdfzsMIkfyzT"
      },
      "source": [
        "Python tiene varios tipos de datos "
      ]
    },
    {
      "cell_type": "markdown",
      "metadata": {
        "id": "B4I2Nq-zfyzU"
      },
      "source": [
        "int\t        entero\n",
        "long\t    entero long\n",
        "float\t    flotante\n",
        "complex  \tcomplejo\n",
        "bool\t    booleano\n",
        "str\t        cadena de caracteres\n",
        "unicode\t    cadena de caracteres Unicode\n",
        "tuple\t    tupla\n",
        "xrange\t    rango inmutable\n",
        "list\t    lista\n",
        "range\t    rango mutable\n",
        "dict\t    diccionario\n",
        "set\t        conjunto mutable\n",
        "frozenset\tconjunto inmutable"
      ]
    },
    {
      "cell_type": "code",
      "metadata": {
        "id": "rI53UzlWfyzg",
        "colab": {
          "base_uri": "https://localhost:8080/",
          "height": 35
        },
        "outputId": "771c2380-c33b-4715-e858-d4a2bc12d61e"
      },
      "source": [
        "palabra=\"python\"\n",
        "palabra[1:3]"
      ],
      "execution_count": 5,
      "outputs": [
        {
          "output_type": "execute_result",
          "data": {
            "application/vnd.google.colaboratory.intrinsic+json": {
              "type": "string"
            },
            "text/plain": [
              "'yt'"
            ]
          },
          "metadata": {
            "tags": []
          },
          "execution_count": 5
        }
      ]
    },
    {
      "cell_type": "code",
      "metadata": {
        "colab": {
          "base_uri": "https://localhost:8080/",
          "height": 35
        },
        "id": "Rrgfm_QWfyzg",
        "outputId": "c802c644-2829-46fd-8666-ed1dee349f7d"
      },
      "source": [
        "#Vaer datos al revés\n",
        "palabra=\"python\"\n",
        "palabra[-1::-1]"
      ],
      "execution_count": null,
      "outputs": [
        {
          "output_type": "execute_result",
          "data": {
            "application/vnd.google.colaboratory.intrinsic+json": {
              "type": "string"
            },
            "text/plain": [
              "'nohtyp'"
            ]
          },
          "metadata": {
            "tags": []
          },
          "execution_count": 7
        }
      ]
    },
    {
      "cell_type": "code",
      "metadata": {
        "id": "wPJz2V_7fyzg"
      },
      "source": [
        "palabra=\"N\"+palabra[1:]"
      ],
      "execution_count": null,
      "outputs": []
    },
    {
      "cell_type": "code",
      "metadata": {
        "id": "AUWDmGaWfyzh",
        "outputId": "4d5cec5e-f97d-4865-a84b-201bb8fb5d89"
      },
      "source": [
        "print(palabra)"
      ],
      "execution_count": null,
      "outputs": [
        {
          "output_type": "stream",
          "text": [
            "Nython\n"
          ],
          "name": "stdout"
        }
      ]
    },
    {
      "cell_type": "markdown",
      "metadata": {
        "id": "rxvVL9-PBCrl"
      },
      "source": [
        "## 2.Estructura de datos"
      ]
    },
    {
      "cell_type": "markdown",
      "metadata": {
        "id": "6gZNAE6sBstT"
      },
      "source": [
        "### 2.1 Tuplas"
      ]
    },
    {
      "cell_type": "markdown",
      "metadata": {
        "id": "G2cNFtXyBxTA"
      },
      "source": [
        " Una tupla es un conjunto ordenado e inmutable de elementos del mismo o diferente tipo.\n",
        "\n",
        "Las tuplas se representan escribiendo los elementos entre paréntesis y separados por comas."
      ]
    },
    {
      "cell_type": "code",
      "metadata": {
        "colab": {
          "base_uri": "https://localhost:8080/"
        },
        "id": "DLzIDqCcCIWM",
        "outputId": "2c4e037b-70cf-41e3-fdc3-9ed20a4a6646"
      },
      "source": [
        "(1, \"Hello world\", x)"
      ],
      "execution_count": null,
      "outputs": [
        {
          "output_type": "execute_result",
          "data": {
            "text/plain": [
              "(1, 'Hello world', 13.5)"
            ]
          },
          "metadata": {
            "tags": []
          },
          "execution_count": 18
        }
      ]
    },
    {
      "cell_type": "code",
      "metadata": {
        "colab": {
          "base_uri": "https://localhost:8080/"
        },
        "id": "r21f9FxcDFqn",
        "outputId": "08bec0c4-ed83-4195-bfdf-3cd83351bfb4"
      },
      "source": [
        "T= 3, 4, \"E\"\n",
        "T"
      ],
      "execution_count": null,
      "outputs": [
        {
          "output_type": "execute_result",
          "data": {
            "text/plain": [
              "(3, 4, 'E')"
            ]
          },
          "metadata": {
            "tags": []
          },
          "execution_count": 13
        }
      ]
    },
    {
      "cell_type": "code",
      "metadata": {
        "colab": {
          "base_uri": "https://localhost:8080/",
          "height": 35
        },
        "id": "yjV29bmkHw3d",
        "outputId": "1dd5cd85-f963-4790-ec66-f5d79f163e98"
      },
      "source": [
        "T[2]"
      ],
      "execution_count": null,
      "outputs": [
        {
          "output_type": "execute_result",
          "data": {
            "application/vnd.google.colaboratory.intrinsic+json": {
              "type": "string"
            },
            "text/plain": [
              "'E'"
            ]
          },
          "metadata": {
            "tags": []
          },
          "execution_count": 14
        }
      ]
    },
    {
      "cell_type": "markdown",
      "metadata": {
        "id": "2UbM-be-IDF3"
      },
      "source": [
        "Todas las secuencias en Python comienzan a numerarse desde 0"
      ]
    },
    {
      "cell_type": "code",
      "metadata": {
        "colab": {
          "base_uri": "https://localhost:8080/"
        },
        "id": "5oWYIhV6pTPa",
        "outputId": "ef13f099-8750-47b4-bb76-039084d7d298"
      },
      "source": [
        "len(T)"
      ],
      "execution_count": null,
      "outputs": [
        {
          "output_type": "execute_result",
          "data": {
            "text/plain": [
              "3"
            ]
          },
          "metadata": {
            "tags": []
          },
          "execution_count": 15
        }
      ]
    },
    {
      "cell_type": "code",
      "metadata": {
        "id": "vopcKXNFKPLj"
      },
      "source": [
        "#Todos escriban una tupla de 4 elementos!"
      ],
      "execution_count": null,
      "outputs": []
    },
    {
      "cell_type": "markdown",
      "metadata": {
        "id": "Y07Izk_YCHU-"
      },
      "source": [
        "Puede haber una tupla con elementos vacios, pero debe separarse con comas"
      ]
    },
    {
      "cell_type": "code",
      "metadata": {
        "colab": {
          "base_uri": "https://localhost:8080/"
        },
        "id": "oguRuihrFMux",
        "outputId": "9c73d20b-10b7-41bc-e85f-a778f15774d1"
      },
      "source": [
        "numeros = (5,4,3,2,1,6,45,3,6,6,6,6,6)\n",
        " \n",
        "numero = int(input(\"Dame un numero: \"))\n",
        " \n",
        "contador= 0\n",
        "for i in numeros:\n",
        "    if numero == i:\n",
        "        contador += 1\n",
        " \n",
        "print (\"Hay \",contador,\" repeticion/es\")"
      ],
      "execution_count": null,
      "outputs": [
        {
          "output_type": "stream",
          "text": [
            "Dame un numero: 4\n",
            "Hay  1  repeticion/es\n"
          ],
          "name": "stdout"
        }
      ]
    },
    {
      "cell_type": "markdown",
      "metadata": {
        "id": "NnrvsC4HIZsj"
      },
      "source": [
        "### 2.2 Listas"
      ]
    },
    {
      "cell_type": "markdown",
      "metadata": {
        "id": "Fqw9N5OlJmi5"
      },
      "source": [
        "Una lista es un arreglo de elementos donde podemos ingresar cualquier tipo de dato,Una lista es un arreglo de elementos donde podemos ingresar cualquier tipo de dato."
      ]
    },
    {
      "cell_type": "code",
      "metadata": {
        "colab": {
          "base_uri": "https://localhost:8080/"
        },
        "id": "CYwp3MjaIiDy",
        "outputId": "00b88875-b9ea-4742-f53e-9054503527a2"
      },
      "source": [
        "#Creamos una nueva lista con diversos tipos de datos.\n",
        "lista = [1, 2.5, 'UPIITA', [5,6], 4]\n",
        "lista"
      ],
      "execution_count": null,
      "outputs": [
        {
          "output_type": "execute_result",
          "data": {
            "text/plain": [
              "[1, 2.5, 'UPIITA', [5, 6], 4]"
            ]
          },
          "metadata": {
            "tags": []
          },
          "execution_count": 2
        }
      ]
    },
    {
      "cell_type": "code",
      "metadata": {
        "colab": {
          "base_uri": "https://localhost:8080/"
        },
        "id": "MnmJzwxBRIcj",
        "outputId": "26096158-b5d6-42dc-8cdb-9050beb8d814"
      },
      "source": [
        "# Utilizamos el método extend para concatenar dos listas.\n",
        "lista.extend([4, 7, \"x\"])\n",
        "lista"
      ],
      "execution_count": null,
      "outputs": [
        {
          "output_type": "execute_result",
          "data": {
            "text/plain": [
              "[1, 2.5, 'UPIITA', [5, 6], 4, 4, 7, 'x']"
            ]
          },
          "metadata": {
            "tags": []
          },
          "execution_count": 5
        }
      ]
    },
    {
      "cell_type": "code",
      "metadata": {
        "colab": {
          "base_uri": "https://localhost:8080/"
        },
        "id": "AM4BRVzZP609",
        "outputId": "d787099d-2fa2-4523-8b75-f3fd4f2a55e6"
      },
      "source": [
        "# Utilizamos el método remove para eliminar de la lista el elemento numero 7\n",
        "lista.remove(7)\n",
        "lista"
      ],
      "execution_count": null,
      "outputs": [
        {
          "output_type": "execute_result",
          "data": {
            "text/plain": [
              "[1, 2.5, 'UPIITA', [5, 6], 4, 4, 'x']"
            ]
          },
          "metadata": {
            "tags": []
          },
          "execution_count": 6
        }
      ]
    },
    {
      "cell_type": "code",
      "metadata": {
        "colab": {
          "base_uri": "https://localhost:8080/"
        },
        "id": "37pA_OlRRlcY",
        "outputId": "649e5da9-64f0-48e2-cf4b-0c6a4016b695"
      },
      "source": [
        "# Utilizaremos el mismo método para remover el string upiita\n",
        "# Es importante señalar que se hacen dos cosas se busca el elemento y se elimina\n",
        "lista.remove(\"UPIITA\")\n",
        "lista"
      ],
      "execution_count": null,
      "outputs": [
        {
          "output_type": "execute_result",
          "data": {
            "text/plain": [
              "[1, 2.5, [5, 6], 4, 4, 'x']"
            ]
          },
          "metadata": {
            "tags": []
          },
          "execution_count": 7
        }
      ]
    },
    {
      "cell_type": "code",
      "metadata": {
        "colab": {
          "base_uri": "https://localhost:8080/"
        },
        "id": "43b-COl1T8LT",
        "outputId": "4e235c57-4115-43cf-90a6-daa6fb985446"
      },
      "source": [
        "# El método index busca el elemento y te retorna su posicion\n",
        "lista.index(\"x\")"
      ],
      "execution_count": null,
      "outputs": [
        {
          "output_type": "execute_result",
          "data": {
            "text/plain": [
              "6"
            ]
          },
          "metadata": {
            "tags": []
          },
          "execution_count": 71
        }
      ]
    },
    {
      "cell_type": "code",
      "metadata": {
        "colab": {
          "background_save": true,
          "base_uri": "https://localhost:8080/"
        },
        "id": "55b5W237UyP6",
        "outputId": "af4bd250-9770-4282-f0a2-2bc67aab7f9d"
      },
      "source": [
        "# Cuenta \n",
        "lista.count(4)\n",
        "lista"
      ],
      "execution_count": null,
      "outputs": [
        {
          "output_type": "execute_result",
          "data": {
            "text/plain": [
              "[1, 2.5, [5, 6], 4, 4, 'x']"
            ]
          },
          "metadata": {
            "tags": []
          },
          "execution_count": 0
        }
      ]
    },
    {
      "cell_type": "code",
      "metadata": {
        "colab": {
          "background_save": true,
          "base_uri": "https://localhost:8080/",
          "height": 35
        },
        "id": "yx8R-Nt_x6L4",
        "outputId": "bb111961-b76d-4f1b-a690-a27daf10ba65"
      },
      "source": [
        "a = 'abc'\n",
        "a[0:2]"
      ],
      "execution_count": null,
      "outputs": [
        {
          "output_type": "execute_result",
          "data": {
            "application/vnd.google.colaboratory.intrinsic+json": {
              "type": "string"
            },
            "text/plain": [
              "'ab'"
            ]
          },
          "metadata": {
            "tags": []
          },
          "execution_count": 0
        }
      ]
    },
    {
      "cell_type": "code",
      "metadata": {
        "id": "Fg9MFQJ1ooQd"
      },
      "source": [
        "# [] hace refererencia a una lista vacia que es un objeto que agregamos a la lista\n",
        "num2=[6, 6, 17]\n",
        "num2[1]=[]\n",
        "num2"
      ],
      "execution_count": null,
      "outputs": []
    },
    {
      "cell_type": "code",
      "metadata": {
        "colab": {
          "base_uri": "https://localhost:8080/"
        },
        "id": "eTDFOKfbpvp4",
        "outputId": "90b9c52e-d823-42a4-fbdd-6ca10df7929c"
      },
      "source": [
        "len(num2) # len obtiene el  tamaño del axis 0 de un array"
      ],
      "execution_count": null,
      "outputs": [
        {
          "output_type": "execute_result",
          "data": {
            "text/plain": [
              "3"
            ]
          },
          "metadata": {
            "tags": []
          },
          "execution_count": 4
        }
      ]
    },
    {
      "cell_type": "code",
      "metadata": {
        "id": "mTN7zEa9p3-v"
      },
      "source": [
        "a=[1,2,3]\n",
        "b=[4,5,6]\n",
        "c=[7,8,9]"
      ],
      "execution_count": null,
      "outputs": []
    },
    {
      "cell_type": "code",
      "metadata": {
        "colab": {
          "base_uri": "https://localhost:8080/"
        },
        "id": "6MSObTLEp9jw",
        "outputId": "2d000fff-5d78-4fab-c023-dce34d328a80"
      },
      "source": [
        "# Generamos listas de listas\n",
        "r=[a,b,c]\n",
        "r"
      ],
      "execution_count": null,
      "outputs": [
        {
          "output_type": "execute_result",
          "data": {
            "text/plain": [
              "[[1, 2, 3], [4, 5, 6], [7, 8, 9]]"
            ]
          },
          "metadata": {
            "tags": []
          },
          "execution_count": 7
        }
      ]
    },
    {
      "cell_type": "code",
      "metadata": {
        "colab": {
          "base_uri": "https://localhost:8080/"
        },
        "id": "3PuIHyIAp-Qb",
        "outputId": "5887bc89-83be-42a2-9d81-3b225b536e42"
      },
      "source": [
        "r[0]"
      ],
      "execution_count": null,
      "outputs": [
        {
          "output_type": "execute_result",
          "data": {
            "text/plain": [
              "[1, 2, 3]"
            ]
          },
          "metadata": {
            "tags": []
          },
          "execution_count": 8
        }
      ]
    },
    {
      "cell_type": "markdown",
      "metadata": {
        "id": "3sOhCOE5IfRA"
      },
      "source": [
        "### 2.3 Diccionarios"
      ]
    },
    {
      "cell_type": "markdown",
      "metadata": {
        "id": "Gz8o7ho4Vou0"
      },
      "source": [
        "El diccionario, define una relación uno a uno entre claves y valores."
      ]
    },
    {
      "cell_type": "code",
      "metadata": {
        "colab": {
          "base_uri": "https://localhost:8080/"
        },
        "id": "K6wty2YAIncd",
        "outputId": "8d7be714-93c6-4f37-9990-5c993dc5cee8"
      },
      "source": [
        "{'python': 27, 'plone': 51}"
      ],
      "execution_count": null,
      "outputs": [
        {
          "output_type": "execute_result",
          "data": {
            "text/plain": [
              "{'plone': 51, 'python': 27}"
            ]
          },
          "metadata": {
            "tags": []
          },
          "execution_count": 9
        }
      ]
    },
    {
      "cell_type": "code",
      "metadata": {
        "id": "kq0a3H_uVxfk"
      },
      "source": [
        "Diccionario={\n",
        "    \"k1\":4,\n",
        "    \"k2\":True,\n",
        "    \"k3\":\"Valor 1\",\n",
        "    \"k4\":[1,2,3,4]\n",
        "    }"
      ],
      "execution_count": null,
      "outputs": []
    },
    {
      "cell_type": "code",
      "metadata": {
        "colab": {
          "base_uri": "https://localhost:8080/",
          "height": 35
        },
        "id": "538CJARmWQDG",
        "outputId": "8ca2e095-b9a7-472d-8ff6-04d5916f9aa3"
      },
      "source": [
        "Diccionario['k3']"
      ],
      "execution_count": null,
      "outputs": [
        {
          "output_type": "execute_result",
          "data": {
            "application/vnd.google.colaboratory.intrinsic+json": {
              "type": "string"
            },
            "text/plain": [
              "'Valor 1'"
            ]
          },
          "metadata": {
            "tags": []
          },
          "execution_count": 12
        }
      ]
    },
    {
      "cell_type": "markdown",
      "metadata": {
        "id": "J2o1Dw7UW6zP"
      },
      "source": [
        "Un diccionario puede almacenar los diversos tipos de datos integrados en Python"
      ]
    },
    {
      "cell_type": "code",
      "metadata": {
        "colab": {
          "base_uri": "https://localhost:8080/"
        },
        "id": "CeTkSUf0WnzW",
        "outputId": "4f1e5ffd-df6a-4a6c-8a35-5ba94b55fda7"
      },
      "source": [
        "type(Diccionario['k2'])\n"
      ],
      "execution_count": null,
      "outputs": [
        {
          "output_type": "execute_result",
          "data": {
            "text/plain": [
              "bool"
            ]
          },
          "metadata": {
            "tags": []
          },
          "execution_count": 83
        }
      ]
    },
    {
      "cell_type": "code",
      "metadata": {
        "colab": {
          "base_uri": "https://localhost:8080/"
        },
        "id": "Miynctk2X04a",
        "outputId": "c0a08b65-8dd2-4d59-a2ef-e825b8ff1b72"
      },
      "source": [
        "dict(Etiqueta1=2.7, Etiqueta2=2.13, Etiqueta3=5.1, Etiqueta4=2.1)"
      ],
      "execution_count": null,
      "outputs": [
        {
          "output_type": "execute_result",
          "data": {
            "text/plain": [
              "{'Etiqueta1': 2.7, 'Etiqueta2': 2.13, 'Etiqueta3': 5.1, 'Etiqueta4': 2.1}"
            ]
          },
          "metadata": {
            "tags": []
          },
          "execution_count": 84
        }
      ]
    },
    {
      "cell_type": "code",
      "metadata": {
        "colab": {
          "base_uri": "https://localhost:8080/"
        },
        "id": "nVxWK58dYAaS",
        "outputId": "af0ea652-7a54-4fdc-c4b2-eb9952d04b10"
      },
      "source": [
        "Dic=dict(Etiqueta1=2.7, Etiqueta2=2.13, Etiqueta3=5.1, Etiqueta4=2.1)\n",
        "\"Etiqueta1\" in Dic"
      ],
      "execution_count": null,
      "outputs": [
        {
          "output_type": "execute_result",
          "data": {
            "text/plain": [
              "True"
            ]
          },
          "metadata": {
            "tags": []
          },
          "execution_count": 86
        }
      ]
    },
    {
      "cell_type": "code",
      "metadata": {
        "colab": {
          "base_uri": "https://localhost:8080/"
        },
        "id": "BxwsBHEHYU27",
        "outputId": "631dee63-2e27-4e10-83f4-8095eead0842"
      },
      "source": [
        "'Etiqueta4' in Dic"
      ],
      "execution_count": null,
      "outputs": [
        {
          "output_type": "execute_result",
          "data": {
            "text/plain": [
              "True"
            ]
          },
          "metadata": {
            "tags": []
          },
          "execution_count": 88
        }
      ]
    },
    {
      "cell_type": "code",
      "metadata": {
        "colab": {
          "base_uri": "https://localhost:8080/"
        },
        "id": "VLmwm6HDY8tD",
        "outputId": "214f8318-f1a3-4ca6-8ee5-95b8a3c69aef"
      },
      "source": [
        "Dic.get('Etiqueta3')"
      ],
      "execution_count": null,
      "outputs": [
        {
          "output_type": "execute_result",
          "data": {
            "text/plain": [
              "5.1"
            ]
          },
          "metadata": {
            "tags": []
          },
          "execution_count": 89
        }
      ]
    },
    {
      "cell_type": "code",
      "metadata": {
        "colab": {
          "base_uri": "https://localhost:8080/"
        },
        "id": "J-z-v56nZMHe",
        "outputId": "fa72afd7-0053-4ef7-c57e-1b749978350a"
      },
      "source": [
        "Dic.items()"
      ],
      "execution_count": null,
      "outputs": [
        {
          "output_type": "execute_result",
          "data": {
            "text/plain": [
              "dict_items([('Etiqueta1', 2.7), ('Etiqueta2', 2.13), ('Etiqueta3', 5.1), ('Etiqueta4', 2.1)])"
            ]
          },
          "metadata": {
            "tags": []
          },
          "execution_count": 90
        }
      ]
    },
    {
      "cell_type": "markdown",
      "metadata": {
        "id": "m9yK-ZR6pHgL"
      },
      "source": [
        "## 3 Funciones"
      ]
    },
    {
      "cell_type": "markdown",
      "metadata": {
        "id": "4zsaxRKvr3-M"
      },
      "source": [
        "###  3.1 Indentación\n",
        "\n",
        "Primero hablemos un poco de la indentación de código, este es\n",
        "el hecho de utilizar sangrado (mover ligeramente hacia la derecha) en las líneas de código para facilitar la lectura, e indicar visualmente si nos encontramos en el interior de una función, bucle, condicional, etc. Por ejemplo, ¿cuál de las siguientes dos celdas de código se ve más entendible?\n",
        "\n",
        "\n"
      ]
    },
    {
      "cell_type": "code",
      "metadata": {
        "id": "fPX9NAZIyYVF"
      },
      "source": [
        "\"\"\"\n",
        "function bucle() { for (i = 0; i < 10; i++) {\n",
        "  console.log(\"Iteración #\", i);\n",
        "  if (i == 9) console.log(\"Estoy en la última iteración\"); }\n",
        "}\n",
        "\"\"\""
      ],
      "execution_count": null,
      "outputs": []
    },
    {
      "cell_type": "code",
      "metadata": {
        "id": "47O-Q3-syyHG"
      },
      "source": [
        "\"\"\"\n",
        "function bucle() {\n",
        "  for (i = 0; i < 10; i++) {\n",
        "    console.log(\"Iteración #\", i);\n",
        "\n",
        "    if (i == 9) {\n",
        "      console.log(\"Estoy en la última iteración\");\n",
        "    } // if\n",
        "  } // for\n",
        "} // function\n",
        "\"\"\""
      ],
      "execution_count": null,
      "outputs": []
    },
    {
      "cell_type": "markdown",
      "metadata": {
        "id": "9gkBUxUZOKCQ"
      },
      "source": [
        "¿Notaron la indentación? Bueno, Python obliga a indentar el código, es parte de su sintaxis."
      ]
    },
    {
      "cell_type": "code",
      "metadata": {
        "colab": {
          "base_uri": "https://localhost:8080/"
        },
        "id": "LmgOF4JjF9LG",
        "outputId": "83080168-6faa-4aa5-faea-95e9ed1ea940"
      },
      "source": [
        "for i in range(10):\n",
        "  print(\"Todavía no\")\n",
        "  if i == 9:\n",
        "    print(\"Estoy en la última iteración\")\n"
      ],
      "execution_count": null,
      "outputs": [
        {
          "output_type": "stream",
          "text": [
            "Todavía no\n",
            "Todavía no\n",
            "Todavía no\n",
            "Todavía no\n",
            "Todavía no\n",
            "Todavía no\n",
            "Todavía no\n",
            "Todavía no\n",
            "Todavía no\n",
            "Todavía no\n",
            "Estoy en la última iteración\n"
          ],
          "name": "stdout"
        }
      ]
    },
    {
      "cell_type": "markdown",
      "metadata": {
        "id": "K0JtR7h-ykSL"
      },
      "source": [
        "<h2>4.Funciones</h2>\n",
        "<p>\n",
        "Es un bloque de codigo reutilizable el cual puede recibir variables de entrada y devuelve algún valor procesado o realiza alguna operación (por ejemplo, puede imprimir un valor, pero no regresar un valor)<br>\n",
        "Su sintaxis es la siguiente:<br><br>\n",
        "def nombre_funcion(argumentos de entrada):<br>\n",
        "&nbsp;&nbsp;&nbsp;&nbsp;&nbsp;&nbsp;&nbsp;&nbsp;....<br>\n",
        "&nbsp;&nbsp;&nbsp;&nbsp;&nbsp;&nbsp;&nbsp;&nbsp;....<br>\n",
        "&nbsp;&nbsp;&nbsp;&nbsp;&nbsp;&nbsp;&nbsp;&nbsp;....<br>\n",
        "&nbsp;&nbsp;&nbsp;&nbsp;&nbsp;&nbsp;&nbsp;&nbsp;return valor/es_procesados #Opcional\n",
        "</p>\n"
      ]
    },
    {
      "cell_type": "code",
      "metadata": {
        "id": "68FAOVj4r3lY"
      },
      "source": [
        "# Declaramos las funciones de suma y multiplicación\n",
        "def suma(a,b):\n",
        "    return a + b\n",
        "def multiplicación(a,b):\n",
        "    return a * b"
      ],
      "execution_count": null,
      "outputs": []
    },
    {
      "cell_type": "markdown",
      "metadata": {
        "id": "0NDyC7qjvZbW"
      },
      "source": [
        "<h3>Poniendo en práctica variables y funciones</h3>"
      ]
    },
    {
      "cell_type": "code",
      "metadata": {
        "colab": {
          "base_uri": "https://localhost:8080/"
        },
        "id": "sZAPc425zzwc",
        "outputId": "9cfbfe84-486f-49fa-9e6b-50b6ed4ba288"
      },
      "source": [
        "# Guardemos el resultado de una función en una variable.\n",
        "resultado1 = suma(1, 2)\n",
        "resultado2 = multiplicación(3, 4)\n",
        "print(resultado1)\n",
        "print(resultado2)"
      ],
      "execution_count": null,
      "outputs": [
        {
          "output_type": "stream",
          "text": [
            "3\n",
            "12\n"
          ],
          "name": "stdout"
        }
      ]
    },
    {
      "cell_type": "markdown",
      "metadata": {
        "id": "eqlnzBhg0qGU"
      },
      "source": [
        "### 3.2 \"Funciones\" útiles\n",
        "Conforme vamos adquiriendo más experiencia programando, nos vamos a dar cuenta que hay funciones ya implementadas que utilizamos más que otras. Vamos a dar unos ejemplos:\n"
      ]
    },
    {
      "cell_type": "code",
      "metadata": {
        "id": "icrQtufT1TQL"
      },
      "source": [
        "#Creamos una nueva lista\n",
        "l = [3,40,22,-2]\n",
        "# Encontrar el valor máximo de una estructura iterable\n"
      ],
      "execution_count": 1,
      "outputs": []
    },
    {
      "cell_type": "code",
      "metadata": {
        "id": "oCYss_dQ1leO"
      },
      "source": [
        "# Encontrar el valor mínimo de una estructura iterable\n"
      ],
      "execution_count": 3,
      "outputs": []
    },
    {
      "cell_type": "code",
      "metadata": {
        "colab": {
          "base_uri": "https://localhost:8080/"
        },
        "id": "ZImeMvG41mLy",
        "outputId": "4c1b9a37-69b7-460e-fa1f-6bc6fec5857e"
      },
      "source": [
        "# Las función find() sirve para encontrar alguna subcadena dentro de una cadena.\n",
        "# Devuelve el índice de la cadena en donde se encuentre por primera vez, si no se encuentra, devuelve -1.\n",
        "s = 'Hola, estudio en UPIITA'\n",
        "s.find('UPIITA')"
      ],
      "execution_count": null,
      "outputs": [
        {
          "output_type": "execute_result",
          "data": {
            "text/plain": [
              "17"
            ]
          },
          "metadata": {
            "tags": []
          },
          "execution_count": 127
        }
      ]
    },
    {
      "cell_type": "code",
      "metadata": {
        "colab": {
          "base_uri": "https://localhost:8080/"
        },
        "id": "YXCFIYBlKIRv",
        "outputId": "f1425c9a-c518-44f3-a84b-adb6420c504f"
      },
      "source": [
        "#La función sort() ordena los valores del ascendentemente\n",
        "#En este caso ordena los numeros de menor a mayor\n",
        "numeros = [16, 4, 9, 1, 3, 20, 8]\n",
        "numeros.sort()\n",
        "numeros\n",
        "\n",
        "\n"
      ],
      "execution_count": null,
      "outputs": [
        {
          "output_type": "execute_result",
          "data": {
            "text/plain": [
              "[1, 3, 4, 8, 9, 16, 20]"
            ]
          },
          "metadata": {
            "tags": []
          },
          "execution_count": 1
        }
      ]
    },
    {
      "cell_type": "code",
      "metadata": {
        "colab": {
          "base_uri": "https://localhost:8080/"
        },
        "id": "IoYigzErKaSf",
        "outputId": "5fcf748e-d8ba-47d3-9530-e7223bc37994"
      },
      "source": [
        "#La función sort() ordena los valores del ascendentemente\n",
        "#En este caso ordena las cadenas en orden alfabético\n",
        "palabras = [\"hola\", \"coche\", \"avión\", \"manzana\", \"perro\", \"gato\"]\n",
        "palabras.sort()\n",
        "palabras"
      ],
      "execution_count": null,
      "outputs": [
        {
          "output_type": "execute_result",
          "data": {
            "text/plain": [
              "['avión', 'coche', 'gato', 'hola', 'manzana', 'perro']"
            ]
          },
          "metadata": {
            "tags": []
          },
          "execution_count": 2
        }
      ]
    },
    {
      "cell_type": "code",
      "metadata": {
        "colab": {
          "base_uri": "https://localhost:8080/"
        },
        "id": "7KWPtXB3LKTo",
        "outputId": "389ac0f0-477a-49fa-9d54-2dd0773e0037"
      },
      "source": [
        "#Se declara un dato tipo range\n",
        "x = range(10)\n",
        "print(x)"
      ],
      "execution_count": null,
      "outputs": [
        {
          "output_type": "stream",
          "text": [
            "range(0, 10)\n"
          ],
          "name": "stdout"
        }
      ]
    },
    {
      "cell_type": "code",
      "metadata": {
        "colab": {
          "base_uri": "https://localhost:8080/"
        },
        "id": "PfBZa2R5LNkc",
        "outputId": "3f570802-3b55-49e1-8bbb-08ad21f78df9"
      },
      "source": [
        "#Tomando x, se hace una lista con los valores del dato range\n",
        "list(x)"
      ],
      "execution_count": null,
      "outputs": [
        {
          "output_type": "execute_result",
          "data": {
            "text/plain": [
              "[0, 1, 2, 3, 4, 5, 6, 7, 8, 9]"
            ]
          },
          "metadata": {
            "tags": []
          },
          "execution_count": 4
        }
      ]
    },
    {
      "cell_type": "code",
      "metadata": {
        "colab": {
          "base_uri": "https://localhost:8080/"
        },
        "id": "CO-BFcBGLUVp",
        "outputId": "a4604016-1650-49ae-969e-a483eeb27ece"
      },
      "source": [
        "#Se hace una lista con el intervalo 1-11\n",
        "list(range(1, 11))\n"
      ],
      "execution_count": null,
      "outputs": [
        {
          "output_type": "execute_result",
          "data": {
            "text/plain": [
              "[1, 2, 3, 4, 5, 6, 7, 8, 9, 10]"
            ]
          },
          "metadata": {
            "tags": []
          },
          "execution_count": 6
        }
      ]
    },
    {
      "cell_type": "code",
      "metadata": {
        "colab": {
          "base_uri": "https://localhost:8080/"
        },
        "id": "ygQrpz3CL_z9",
        "outputId": "be3c7cc2-90b5-4810-8162-dd21bae171bc"
      },
      "source": [
        "#Toma dos listas con datos iterables, las itera a la par, y las guarda en una nueva lista\n",
        "#En cada uno de los elementos, se almacenarán los dos datos de cada lista correspondiente a la iteración\n",
        "Carreras = [\"Biónica\", \"Telemática\", \"Mecatrónica\", \"Energía\"]\n",
        "numeros= [11, 13, 7, 4]\n",
        "list(zip(Carreras , numeros))"
      ],
      "execution_count": null,
      "outputs": [
        {
          "output_type": "execute_result",
          "data": {
            "text/plain": [
              "[('Biónica', 11), ('Telemática', 13), ('Mecatrónica', 7), ('Energía', 4)]"
            ]
          },
          "metadata": {
            "tags": []
          },
          "execution_count": 26
        }
      ]
    },
    {
      "cell_type": "code",
      "metadata": {
        "colab": {
          "base_uri": "https://localhost:8080/"
        },
        "id": "i26PFcWXOsQn",
        "outputId": "a21ff1bb-6e2c-4b02-8933-e3b2791254e4"
      },
      "source": [
        "#Toma tres listascon datos iterables, las itera a la par, y las guarda en una nueva lista\n",
        "#En cada uno de los elementos, se almacenarán los tres datos de cada lista correspondiente a la iteración\n",
        "a = [\"a\", \"b\", \"c\", \"d\", \"e\"]\n",
        "b = [1, 2, 3, 4, 5]\n",
        "c = ['x', 'u', 't', 4, 5]\n",
        "list(zip(a, b,c))"
      ],
      "execution_count": null,
      "outputs": [
        {
          "output_type": "execute_result",
          "data": {
            "text/plain": [
              "[('a', 1, 'x'), ('b', 2, 'u'), ('c', 3, 't'), ('d', 4, 4), ('e', 5, 5)]"
            ]
          },
          "metadata": {
            "tags": []
          },
          "execution_count": 19
        }
      ]
    },
    {
      "cell_type": "markdown",
      "metadata": {
        "id": "GuI1h_SK3cdH"
      },
      "source": [
        "map(function, iterable, ...)"
      ]
    },
    {
      "cell_type": "code",
      "metadata": {
        "colab": {
          "base_uri": "https://localhost:8080/"
        },
        "id": "iCwXfUpuOVOs",
        "outputId": "567d4382-2846-4844-e5d9-2aca8b586078"
      },
      "source": [
        "def duplicar(numero):\n",
        "    return numero*2\n",
        "\n",
        "numeros = [2, 5, 10, 23, 50, 33]\n",
        "\n",
        "list(map(duplicar, numeros))"
      ],
      "execution_count": 4,
      "outputs": [
        {
          "output_type": "execute_result",
          "data": {
            "text/plain": [
              "[4, 10, 20, 46, 100, 66]"
            ]
          },
          "metadata": {
            "tags": []
          },
          "execution_count": 4
        }
      ]
    },
    {
      "cell_type": "markdown",
      "metadata": {
        "id": "1EBcmc0LY2id"
      },
      "source": [
        "## 4.Ciclos de control\n"
      ]
    },
    {
      "cell_type": "markdown",
      "metadata": {
        "id": "PstOIIgWZH-z"
      },
      "source": [
        "### 4.1 If - elif - else\n",
        "La sentencia condicional if se usa para tomar decisiones, este evaluá básicamente una operación lógica"
      ]
    },
    {
      "cell_type": "code",
      "metadata": {
        "colab": {
          "base_uri": "https://localhost:8080/"
        },
        "id": "KlzY4WEcZcKT",
        "outputId": "53ed426e-a068-4972-9873-4666e849c227"
      },
      "source": [
        "#Comparamos la suma de 2+2 con el valor de 4. Si se cumple, se imprime el mensaje, caso contrario no.\n",
        "a = 2 + 2\n",
        "if a == 4: #condicion si a es igual a cuatro, entonces\n",
        "    print (\"A es igual a cuatro\")"
      ],
      "execution_count": null,
      "outputs": [
        {
          "output_type": "stream",
          "text": [
            "A es igual a cuatro\n"
          ],
          "name": "stdout"
        }
      ]
    },
    {
      "cell_type": "code",
      "metadata": {
        "colab": {
          "base_uri": "https://localhost:8080/"
        },
        "id": "gcY1ugmGD9B-",
        "outputId": "eb996179-5cee-4f15-9885-aa4980f75b7e"
      },
      "source": [
        "#Se solicita a un usuario un string, se compara con la cadena \"manzana\" . \n",
        "#Se compara la cade con el if, si se cumple la condición se desplega el mensaje 'Iniciando sesión', si no se cumpla, pasa al caso else imprimiendo el mensaje correspondiente.\n",
        "pwd = str(input('Contraseña: '))\n",
        "if pwd == 'manzana':\n",
        "    print('Iniciando sesión ...')\n",
        "else:\n",
        "    print('Contraseña incorrecta.')\n",
        "\n",
        "print('¡Todo terminado!')"
      ],
      "execution_count": null,
      "outputs": [
        {
          "output_type": "stream",
          "text": [
            "Contraseña: holaaa\n",
            "Contraseña incorrecta.\n",
            "¡Todo terminado!\n"
          ],
          "name": "stdout"
        }
      ]
    },
    {
      "cell_type": "code",
      "metadata": {
        "colab": {
          "base_uri": "https://localhost:8080/"
        },
        "id": "SG8ihy9Ga4q6",
        "outputId": "cb6e6206-421b-47b6-ddbd-44e27d152f26"
      },
      "source": [
        "#Comparamos el valor de a con el entero 4. Si ambos son cuatro, se imprime \"a es igual a cuatro\", de lo contrario \"a es diferente\"\n",
        "a=1\n",
        "if a == 4: #condicion si a es igual a cuatro, entonces\n",
        "    print (\"a es igual a cuatro\")\n",
        "else:\n",
        "    print (\"a es diferente\")"
      ],
      "execution_count": null,
      "outputs": [
        {
          "output_type": "stream",
          "text": [
            "a es diferente\n"
          ],
          "name": "stdout"
        }
      ]
    },
    {
      "cell_type": "code",
      "metadata": {
        "colab": {
          "base_uri": "https://localhost:8080/"
        },
        "id": "PF5XtjTZqeuJ",
        "outputId": "85ab145d-6403-4e96-8456-7c689075d24e"
      },
      "source": [
        "#Se pregunta la edad al usuario, dependiendo del rango en el que esté, se anuncia el tipo de tarifa\n",
        "edad = int(input('¿Qué edad tiene usted? '))\n",
        "if edad <= 2:\n",
        "    print(' gratis')\n",
        "elif 2 < edad < 13:\n",
        "    print(' tarifa de niño')\n",
        "else:\n",
        "    print('tarifa para adultos')"
      ],
      "execution_count": null,
      "outputs": [
        {
          "output_type": "stream",
          "text": [
            "¿Qué edad tiene usted? 4\n",
            " tarifa de niño\n"
          ],
          "name": "stdout"
        }
      ]
    },
    {
      "cell_type": "code",
      "metadata": {
        "colab": {
          "base_uri": "https://localhost:8080/"
        },
        "id": "zHNgkQoZbdXk",
        "outputId": "2293ea53-a1ea-4875-c8ef-40aba959a05b"
      },
      "source": [
        "#Se compara la suma a, con los enteros del 4 al 7. Si la suma es igual a alguno de estos valores o no, se imprime el mensaje correspondiente. \n",
        "a = 4 + 3\n",
        "if a == 4: #condicion si a es exactamente cuatro, entonces(:)\n",
        "    print (\"a es igual a cuatro\") # Imprimir\n",
        "elif a == 5:\n",
        "    print (\"a es igual a cinco\")\n",
        "elif a == 6:\n",
        "    print (\"a es igual a seis\")\n",
        "elif a == 7:\n",
        "    print (\"a es igual a siete\")\n",
        "else:\n",
        "    print (\"No se cumple la condición\")\n",
        "(shift + atl + flecha)\n",
        "elif a = =5\n",
        "elif a == 8\n",
        "elif a = 6"
      ],
      "execution_count": null,
      "outputs": [
        {
          "output_type": "stream",
          "text": [
            "a es igual a siete\n"
          ],
          "name": "stdout"
        }
      ]
    },
    {
      "cell_type": "markdown",
      "metadata": {
        "id": "Rds4WLlIZPJC"
      },
      "source": [
        "### 4.2 For"
      ]
    },
    {
      "cell_type": "code",
      "metadata": {
        "colab": {
          "base_uri": "https://localhost:8080/"
        },
        "id": "LAgNrQo5deNF",
        "outputId": "9b18721a-adcc-43a0-95ec-9ffd75cb7abd"
      },
      "source": [
        "#Se crea un ciclo con 10 iteraciones, en cada iteración se le sumará 1, y se imprimirá el valor.\n",
        "a = 0\n",
        "for i in range(10):\n",
        "  a += 1\n",
        "  print(a)"
      ],
      "execution_count": null,
      "outputs": [
        {
          "output_type": "stream",
          "text": [
            "1\n",
            "2\n",
            "3\n",
            "4\n",
            "5\n",
            "6\n",
            "7\n",
            "8\n",
            "9\n",
            "10\n"
          ],
          "name": "stdout"
        }
      ]
    },
    {
      "cell_type": "code",
      "metadata": {
        "colab": {
          "base_uri": "https://localhost:8080/",
          "height": 35
        },
        "id": "24f0AntgxqvX",
        "outputId": "f82223be-85ac-47d6-8b2f-98d5e7c41276"
      },
      "source": [
        "'a'*3"
      ],
      "execution_count": null,
      "outputs": [
        {
          "output_type": "execute_result",
          "data": {
            "application/vnd.google.colaboratory.intrinsic+json": {
              "type": "string"
            },
            "text/plain": [
              "'aaa'"
            ]
          },
          "metadata": {
            "tags": []
          },
          "execution_count": 10
        }
      ]
    },
    {
      "cell_type": "code",
      "metadata": {
        "colab": {
          "base_uri": "https://localhost:8080/"
        },
        "id": "AJlnJ83Wc_T_",
        "outputId": "01f8394c-a10c-4447-be2e-61b5e80174bc"
      },
      "source": [
        "#Con un ciclo for, se recorre toda la lista, buscando el valor de 3. Se desplega el mensaje correspondiente si está el valor o no.\n",
        "numeros = [1, 2, 4, 3, 5, 8, 6]\n",
        "for n in numeros:\n",
        "    if n == 3:\n",
        "      print('tiene un 3')\n",
        "      break   \n",
        "else:\n",
        "    print('No se encontró el número 3')"
      ],
      "execution_count": null,
      "outputs": [
        {
          "output_type": "stream",
          "text": [
            "tiene un 3\n"
          ],
          "name": "stdout"
        }
      ]
    },
    {
      "cell_type": "code",
      "metadata": {
        "colab": {
          "base_uri": "https://localhost:8080/"
        },
        "id": "1vy2CmM2q0rF",
        "outputId": "96d1167a-61b4-4b65-9b80-1e7dc45b88fa"
      },
      "source": [
        "#Se declara un diccionario, para desplegar la llave y su valor con ayuda de un ciclo for. \n",
        "otro_diccionario = {\n",
        "    'Nombre' : 'Axel',\n",
        "    'Edad' : 22,\n",
        "    'Escuela' : 'UPIITA'\n",
        "}\n",
        "for llave in otro_diccionario:\n",
        "  print(f'{llave} : {otro_diccionario[llave]}')\n"
      ],
      "execution_count": null,
      "outputs": [
        {
          "output_type": "stream",
          "text": [
            "Nombre : Axel\n",
            "Edad : 22\n",
            "Escuela : UPIITA\n"
          ],
          "name": "stdout"
        }
      ]
    },
    {
      "cell_type": "markdown",
      "metadata": {
        "id": "uEXXmtqLZVXe"
      },
      "source": [
        "### 4.3 While"
      ]
    },
    {
      "cell_type": "markdown",
      "metadata": {
        "id": "WJM5nbIblfgM"
      },
      "source": [
        "Un bucle while permite repetir la ejecución de un grupo de instrucciones mientras se cumpla una condición (es decir, mientras la condición tenga el valor True)."
      ]
    },
    {
      "cell_type": "code",
      "metadata": {
        "colab": {
          "base_uri": "https://localhost:8080/"
        },
        "id": "LRGvSGYklgu4",
        "outputId": "27d92a5f-d19c-4652-ca8e-4c676dc464ea"
      },
      "source": [
        "#Con un ciclo while, se imprimen todos los enteros entre el uno y el tres\n",
        "i = 1\n",
        "while i <= 3:\n",
        "    print(i)\n",
        "    i += 1\n",
        "print(\"Programa terminado\")"
      ],
      "execution_count": null,
      "outputs": [
        {
          "output_type": "stream",
          "text": [
            "1\n",
            "2\n",
            "3\n",
            "Programa terminado\n"
          ],
          "name": "stdout"
        }
      ]
    },
    {
      "cell_type": "code",
      "metadata": {
        "colab": {
          "base_uri": "https://localhost:8080/"
        },
        "id": "qnpiBX3nmL5R",
        "outputId": "64dee993-e4cc-423d-e2e1-7d58d014624a"
      },
      "source": [
        "\n",
        "i = 1\n",
        "while i <= 50:\n",
        "    print(i)\n",
        "    i = 3 * i + 1\n",
        "print(\"Programa terminado\")"
      ],
      "execution_count": null,
      "outputs": [
        {
          "output_type": "stream",
          "text": [
            "1\n",
            "4\n",
            "13\n",
            "40\n",
            "Programa terminado\n"
          ],
          "name": "stdout"
        }
      ]
    },
    {
      "cell_type": "markdown",
      "metadata": {
        "id": "noOKvcJeflbT"
      },
      "source": [
        "## 5.Ejercicios"
      ]
    },
    {
      "cell_type": "markdown",
      "metadata": {
        "id": "3UFKf54Cgd5m"
      },
      "source": [
        "Un algoritmo resuelve cualquier problema a través de unas instrucciones y reglas concisas"
      ]
    },
    {
      "cell_type": "code",
      "metadata": {
        "colab": {
          "base_uri": "https://localhost:8080/"
        },
        "id": "WZfpzHtNe6Cb",
        "outputId": "c64b4135-f6ef-449b-ff7e-7e8bfd707400"
      },
      "source": [
        "import math\n",
        "print(\"Ingrese el radio\")\n",
        "r=float(input())\n",
        "a=math.pi*r**2\n",
        "a"
      ],
      "execution_count": null,
      "outputs": [
        {
          "output_type": "stream",
          "text": [
            "Ingrese el radio\n",
            "2\n"
          ],
          "name": "stdout"
        },
        {
          "output_type": "execute_result",
          "data": {
            "text/plain": [
              "12.566370614359172"
            ]
          },
          "metadata": {
            "tags": []
          },
          "execution_count": 13
        }
      ]
    },
    {
      "cell_type": "code",
      "metadata": {
        "colab": {
          "base_uri": "https://localhost:8080/"
        },
        "id": "-Gn8__tXcfuC",
        "outputId": "2319e41e-f84f-438a-ffa6-642fb594ca3e"
      },
      "source": [
        "# coleccion = [2, 4, 5, 7, 8, 9, 3, 4]\n",
        "# for e in coleccion:\n",
        "#     if e % 2 != 0:\n",
        "#         continue\n",
        "#     print(e)"
      ],
      "execution_count": null,
      "outputs": [
        {
          "output_type": "stream",
          "text": [
            "2\n",
            "4\n",
            "8\n",
            "4\n"
          ],
          "name": "stdout"
        }
      ]
    },
    {
      "cell_type": "markdown",
      "metadata": {
        "id": "gjOBz5AbPKb3"
      },
      "source": [
        "# 6 Pasos a seguir"
      ]
    },
    {
      "cell_type": "markdown",
      "metadata": {
        "id": "Ijn4w5KZGkfz"
      },
      "source": [
        "Documentación: https://docs.python.org/3/ \\\n",
        "\n",
        "Para profundizar Python:  https://www.py4e.com/\n",
        "\n",
        "Sí te interesa Backend, puedes visitar esta página:\n",
        "https://www.dj4e.com/\n",
        "\n",
        "\n",
        "Sí te interesa ML puedes ver la siguiente lista de reproducción: \\\n",
        "https://www.youtube.com/watch?v=jGwO_UgTS7I&list=PLoROMvodv4rMiGQp3WXShtMGgzqpfVfbU"
      ]
    }
  ]
}