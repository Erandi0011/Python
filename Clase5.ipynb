{
 "cells": [
  {
   "cell_type": "code",
   "execution_count": 4,
   "metadata": {},
   "outputs": [
    {
     "name": "stdout",
     "output_type": "stream",
     "text": [
      "c vale 2\n",
      "c vale 4\n",
      "c vale 6\n"
     ]
    }
   ],
   "source": [
    "c=0\n",
    "while c<= 5:\n",
    "    c+=2\n",
    "    print(\"c vale\",c)"
   ]
  },
  {
   "cell_type": "code",
   "execution_count": 7,
   "metadata": {},
   "outputs": [
    {
     "name": "stdout",
     "output_type": "stream",
     "text": [
      "9\n",
      "8\n",
      "7\n",
      "6\n",
      "5\n",
      "4\n",
      "3\n",
      "2\n",
      "1\n",
      "0\n"
     ]
    }
   ],
   "source": [
    "n=10\n",
    "while n>0 :\n",
    "    n-=1\n",
    "    print(n)"
   ]
  },
  {
   "cell_type": "code",
   "execution_count": 8,
   "metadata": {},
   "outputs": [
    {
     "name": "stdout",
     "output_type": "stream",
     "text": [
      "pera\n",
      "manzana\n",
      "naranja\n"
     ]
    }
   ],
   "source": [
    "a=['naranja','manzana','pera']\n",
    "while a:\n",
    "    print(a.pop(-1))"
   ]
  },
  {
   "cell_type": "code",
   "execution_count": 12,
   "metadata": {},
   "outputs": [
    {
     "name": "stdout",
     "output_type": "stream",
     "text": [
      "naranja\n",
      "manzana\n",
      "pera\n"
     ]
    }
   ],
   "source": [
    "a=['naranja','manzana','pera']\n",
    "while a:\n",
    "    print(a.pop(0))"
   ]
  },
  {
   "cell_type": "code",
   "execution_count": 15,
   "metadata": {},
   "outputs": [
    {
     "name": "stdout",
     "output_type": "stream",
     "text": [
      "c vale 1\n",
      "c vale 2\n",
      "c vale 3\n",
      "c vale 4\n",
      "c vale 5\n",
      "c vale 6\n",
      "Se ha completado toda la iteración y c vale 6\n"
     ]
    }
   ],
   "source": [
    "c=0\n",
    "while c<= 5:\n",
    "    c+=1\n",
    "    print(\"c vale\",c)\n",
    "else:\n",
    "   print(\"Se ha completado toda la iteración y c vale\",c)"
   ]
  },
  {
   "cell_type": "code",
   "execution_count": 16,
   "metadata": {},
   "outputs": [
    {
     "name": "stdout",
     "output_type": "stream",
     "text": [
      "fresa no se ha encontrado\n"
     ]
    }
   ],
   "source": [
    "a=['naranja','manzana','pera','platano']\n",
    "s='fresa'\n",
    "i=0\n",
    "while i<len(a):\n",
    "    if a[i]==5:\n",
    "       break\n",
    "    i+=1\n",
    "else:\n",
    "    print(s, 'no se ha encontrado')"
   ]
  },
  {
   "cell_type": "code",
   "execution_count": 23,
   "metadata": {},
   "outputs": [
    {
     "name": "stdout",
     "output_type": "stream",
     "text": [
      "c vale 1\n",
      "c vale 2\n",
      "c vale 5\n",
      "c vale 6\n",
      "Se ha completado la iteración\n"
     ]
    }
   ],
   "source": [
    "c=0\n",
    "while c<=5:\n",
    "    c+=1\n",
    "    if c==3 or c==4:\n",
    "        # Continua con la siguiente iteración\n",
    "     continue\n",
    "    print(\"c vale\",c)\n",
    "else:\n",
    "    print('Se ha completado la iteración')"
   ]
  },
  {
   "cell_type": "code",
   "execution_count": 24,
   "metadata": {},
   "outputs": [
    {
     "name": "stdout",
     "output_type": "stream",
     "text": [
      "algo salio mal\n"
     ]
    }
   ],
   "source": [
    "x='Nada mal aquí, solo un string normal'\n",
    "try:\n",
    "    print(m)\n",
    "except:\n",
    "    print(\"algo salio mal\")"
   ]
  },
  {
   "cell_type": "code",
   "execution_count": 25,
   "metadata": {},
   "outputs": [
    {
     "name": "stdout",
     "output_type": "stream",
     "text": [
      "algo salio mal\n"
     ]
    }
   ],
   "source": [
    "\n",
    "try:\n",
    "    print(Hola)\n",
    "except:\n",
    "    print(\"algo salio mal\")\n",
    "else:\n",
    " print(\"Nada salio mal\")"
   ]
  },
  {
   "cell_type": "code",
   "execution_count": 28,
   "metadata": {},
   "outputs": [
    {
     "name": "stdout",
     "output_type": "stream",
     "text": [
      "Error inesperado\n",
      "Ya termino el try-except, esto es otra cosa\n"
     ]
    }
   ],
   "source": [
    "try:\n",
    "    print(x1)\n",
    "except:\n",
    "    print(\"Error inesperado\")\n",
    "finally:\n",
    " print(\"Ya termino el try-except, esto es otra cosa\")"
   ]
  },
  {
   "cell_type": "markdown",
   "metadata": {},
   "source": []
  },
  {
   "cell_type": "code",
   "execution_count": 34,
   "metadata": {},
   "outputs": [
    {
     "name": "stdout",
     "output_type": "stream",
     "text": [
      "No se pudo calcular la raiz m\n",
      "Otros calculos\n"
     ]
    }
   ],
   "source": [
    "import math\n",
    "def raiz(numero):\n",
    "    math.sqrt(numero)\n",
    "    m=25\n",
    "try:\n",
    " raiz(m)#queremos guardar este ddto cada que se cumpla\n",
    "except:\n",
    " print(\"No se pudo calcular la raiz m\")\n",
    "print(\"Otros calculos\")    "
   ]
  },
  {
   "cell_type": "code",
   "execution_count": 38,
   "metadata": {},
   "outputs": [],
   "source": [
    "archivo=open(\"ejemplo.txt\",\"w\")"
   ]
  },
  {
   "cell_type": "code",
   "execution_count": 41,
   "metadata": {},
   "outputs": [
    {
     "name": "stdout",
     "output_type": "stream",
     "text": [
      "15\n"
     ]
    }
   ],
   "source": [
    "m=15\n",
    "coef=1\n",
    "if not type (coef) is int:\n",
    " raise TypeError(\"solo enteros\")\n",
    "y=m*coef\n",
    "print(y)"
   ]
  },
  {
   "cell_type": "code",
   "execution_count": 43,
   "metadata": {},
   "outputs": [
    {
     "ename": "SyntaxError",
     "evalue": "invalid syntax (<ipython-input-43-0cc9990928ed>, line 1)",
     "output_type": "error",
     "traceback": [
      "\u001b[1;36m  File \u001b[1;32m\"<ipython-input-43-0cc9990928ed>\"\u001b[1;36m, line \u001b[1;32m1\u001b[0m\n\u001b[1;33m    def saludo (nom)\u001b[0m\n\u001b[1;37m                    ^\u001b[0m\n\u001b[1;31mSyntaxError\u001b[0m\u001b[1;31m:\u001b[0m invalid syntax\n"
     ]
    }
   ],
   "source": [
    "def saludo (nom)\n",
    " nom=str(nom)\n",
    " print(\"Hola\",nom)\n"
   ]
  },
  {
   "cell_type": "code",
   "execution_count": null,
   "metadata": {},
   "outputs": [],
   "source": []
  }
 ],
 "metadata": {
  "kernelspec": {
   "display_name": "Python 3",
   "language": "python",
   "name": "python3"
  },
  "language_info": {
   "codemirror_mode": {
    "name": "ipython",
    "version": 3
   },
   "file_extension": ".py",
   "mimetype": "text/x-python",
   "name": "python",
   "nbconvert_exporter": "python",
   "pygments_lexer": "ipython3",
   "version": "3.8.3"
  }
 },
 "nbformat": 4,
 "nbformat_minor": 4
}
