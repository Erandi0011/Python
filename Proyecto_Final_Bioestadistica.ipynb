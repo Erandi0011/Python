{
  "cells": [
    {
      "cell_type": "markdown",
      "metadata": {
        "id": "view-in-github",
        "colab_type": "text"
      },
      "source": [
        "<a href=\"https://colab.research.google.com/github/Erandi0011/Python/blob/main/Proyecto_Final_Bioestadistica.ipynb\" target=\"_parent\"><img src=\"https://colab.research.google.com/assets/colab-badge.svg\" alt=\"Open In Colab\"/></a>"
      ]
    },
    {
      "cell_type": "markdown",
      "metadata": {
        "id": "70t0xaOhUOcF"
      },
      "source": [
        "# Bioestadistica\n",
        "\n",
        "# Proyecto Final: BodyFat\n",
        "\n",
        "\n",
        "### Profesor: Guzman Vargas Lev\n"
      ]
    },
    {
      "cell_type": "code",
      "execution_count": 1,
      "metadata": {
        "id": "tEb0z6Q7UOcJ"
      },
      "outputs": [],
      "source": [
        "import numpy as np\n",
        "import pandas as pd\n",
        "import matplotlib\n",
        "import matplotlib.pyplot as plt\n",
        "from scipy import stats"
      ]
    },
    {
      "cell_type": "code",
      "execution_count": 4,
      "metadata": {
        "colab": {
          "base_uri": "https://localhost:8080/",
          "height": 176
        },
        "id": "vGw_upd7UOcK",
        "outputId": "5913d7d4-3024-4fda-df6c-3d901e4e114f"
      },
      "outputs": [
        {
          "output_type": "execute_result",
          "data": {
            "text/plain": [
              "   IDNO  BODYFAT  DENSITY  AGE  WEIGHT  HEIGHT  ADIPOSITY  NECK  CHEST  \\\n",
              "0     1     12.6   1.0708   23  154.25   67.75       23.7  36.2   93.1   \n",
              "1     2      6.9   1.0853   22  173.25   72.25       23.4  38.5   93.6   \n",
              "\n",
              "   ABDOMEN   HIP  THIGH  KNEE  ANKLE  BICEPS  FOREARM  WRIST  \n",
              "0     85.2  94.5   59.0  37.3   21.9    32.0     27.4   17.1  \n",
              "1     83.0  98.7   58.7  37.3   23.4    30.5     28.9   18.2  "
            ],
            "text/html": [
              "\n",
              "  <div id=\"df-0a006550-e43a-4db2-903c-6d3c34df913f\">\n",
              "    <div class=\"colab-df-container\">\n",
              "      <div>\n",
              "<style scoped>\n",
              "    .dataframe tbody tr th:only-of-type {\n",
              "        vertical-align: middle;\n",
              "    }\n",
              "\n",
              "    .dataframe tbody tr th {\n",
              "        vertical-align: top;\n",
              "    }\n",
              "\n",
              "    .dataframe thead th {\n",
              "        text-align: right;\n",
              "    }\n",
              "</style>\n",
              "<table border=\"1\" class=\"dataframe\">\n",
              "  <thead>\n",
              "    <tr style=\"text-align: right;\">\n",
              "      <th></th>\n",
              "      <th>IDNO</th>\n",
              "      <th>BODYFAT</th>\n",
              "      <th>DENSITY</th>\n",
              "      <th>AGE</th>\n",
              "      <th>WEIGHT</th>\n",
              "      <th>HEIGHT</th>\n",
              "      <th>ADIPOSITY</th>\n",
              "      <th>NECK</th>\n",
              "      <th>CHEST</th>\n",
              "      <th>ABDOMEN</th>\n",
              "      <th>HIP</th>\n",
              "      <th>THIGH</th>\n",
              "      <th>KNEE</th>\n",
              "      <th>ANKLE</th>\n",
              "      <th>BICEPS</th>\n",
              "      <th>FOREARM</th>\n",
              "      <th>WRIST</th>\n",
              "    </tr>\n",
              "  </thead>\n",
              "  <tbody>\n",
              "    <tr>\n",
              "      <th>0</th>\n",
              "      <td>1</td>\n",
              "      <td>12.6</td>\n",
              "      <td>1.0708</td>\n",
              "      <td>23</td>\n",
              "      <td>154.25</td>\n",
              "      <td>67.75</td>\n",
              "      <td>23.7</td>\n",
              "      <td>36.2</td>\n",
              "      <td>93.1</td>\n",
              "      <td>85.2</td>\n",
              "      <td>94.5</td>\n",
              "      <td>59.0</td>\n",
              "      <td>37.3</td>\n",
              "      <td>21.9</td>\n",
              "      <td>32.0</td>\n",
              "      <td>27.4</td>\n",
              "      <td>17.1</td>\n",
              "    </tr>\n",
              "    <tr>\n",
              "      <th>1</th>\n",
              "      <td>2</td>\n",
              "      <td>6.9</td>\n",
              "      <td>1.0853</td>\n",
              "      <td>22</td>\n",
              "      <td>173.25</td>\n",
              "      <td>72.25</td>\n",
              "      <td>23.4</td>\n",
              "      <td>38.5</td>\n",
              "      <td>93.6</td>\n",
              "      <td>83.0</td>\n",
              "      <td>98.7</td>\n",
              "      <td>58.7</td>\n",
              "      <td>37.3</td>\n",
              "      <td>23.4</td>\n",
              "      <td>30.5</td>\n",
              "      <td>28.9</td>\n",
              "      <td>18.2</td>\n",
              "    </tr>\n",
              "  </tbody>\n",
              "</table>\n",
              "</div>\n",
              "      <button class=\"colab-df-convert\" onclick=\"convertToInteractive('df-0a006550-e43a-4db2-903c-6d3c34df913f')\"\n",
              "              title=\"Convert this dataframe to an interactive table.\"\n",
              "              style=\"display:none;\">\n",
              "        \n",
              "  <svg xmlns=\"http://www.w3.org/2000/svg\" height=\"24px\"viewBox=\"0 0 24 24\"\n",
              "       width=\"24px\">\n",
              "    <path d=\"M0 0h24v24H0V0z\" fill=\"none\"/>\n",
              "    <path d=\"M18.56 5.44l.94 2.06.94-2.06 2.06-.94-2.06-.94-.94-2.06-.94 2.06-2.06.94zm-11 1L8.5 8.5l.94-2.06 2.06-.94-2.06-.94L8.5 2.5l-.94 2.06-2.06.94zm10 10l.94 2.06.94-2.06 2.06-.94-2.06-.94-.94-2.06-.94 2.06-2.06.94z\"/><path d=\"M17.41 7.96l-1.37-1.37c-.4-.4-.92-.59-1.43-.59-.52 0-1.04.2-1.43.59L10.3 9.45l-7.72 7.72c-.78.78-.78 2.05 0 2.83L4 21.41c.39.39.9.59 1.41.59.51 0 1.02-.2 1.41-.59l7.78-7.78 2.81-2.81c.8-.78.8-2.07 0-2.86zM5.41 20L4 18.59l7.72-7.72 1.47 1.35L5.41 20z\"/>\n",
              "  </svg>\n",
              "      </button>\n",
              "      \n",
              "  <style>\n",
              "    .colab-df-container {\n",
              "      display:flex;\n",
              "      flex-wrap:wrap;\n",
              "      gap: 12px;\n",
              "    }\n",
              "\n",
              "    .colab-df-convert {\n",
              "      background-color: #E8F0FE;\n",
              "      border: none;\n",
              "      border-radius: 50%;\n",
              "      cursor: pointer;\n",
              "      display: none;\n",
              "      fill: #1967D2;\n",
              "      height: 32px;\n",
              "      padding: 0 0 0 0;\n",
              "      width: 32px;\n",
              "    }\n",
              "\n",
              "    .colab-df-convert:hover {\n",
              "      background-color: #E2EBFA;\n",
              "      box-shadow: 0px 1px 2px rgba(60, 64, 67, 0.3), 0px 1px 3px 1px rgba(60, 64, 67, 0.15);\n",
              "      fill: #174EA6;\n",
              "    }\n",
              "\n",
              "    [theme=dark] .colab-df-convert {\n",
              "      background-color: #3B4455;\n",
              "      fill: #D2E3FC;\n",
              "    }\n",
              "\n",
              "    [theme=dark] .colab-df-convert:hover {\n",
              "      background-color: #434B5C;\n",
              "      box-shadow: 0px 1px 3px 1px rgba(0, 0, 0, 0.15);\n",
              "      filter: drop-shadow(0px 1px 2px rgba(0, 0, 0, 0.3));\n",
              "      fill: #FFFFFF;\n",
              "    }\n",
              "  </style>\n",
              "\n",
              "      <script>\n",
              "        const buttonEl =\n",
              "          document.querySelector('#df-0a006550-e43a-4db2-903c-6d3c34df913f button.colab-df-convert');\n",
              "        buttonEl.style.display =\n",
              "          google.colab.kernel.accessAllowed ? 'block' : 'none';\n",
              "\n",
              "        async function convertToInteractive(key) {\n",
              "          const element = document.querySelector('#df-0a006550-e43a-4db2-903c-6d3c34df913f');\n",
              "          const dataTable =\n",
              "            await google.colab.kernel.invokeFunction('convertToInteractive',\n",
              "                                                     [key], {});\n",
              "          if (!dataTable) return;\n",
              "\n",
              "          const docLinkHtml = 'Like what you see? Visit the ' +\n",
              "            '<a target=\"_blank\" href=https://colab.research.google.com/notebooks/data_table.ipynb>data table notebook</a>'\n",
              "            + ' to learn more about interactive tables.';\n",
              "          element.innerHTML = '';\n",
              "          dataTable['output_type'] = 'display_data';\n",
              "          await google.colab.output.renderOutput(dataTable, element);\n",
              "          const docLink = document.createElement('div');\n",
              "          docLink.innerHTML = docLinkHtml;\n",
              "          element.appendChild(docLink);\n",
              "        }\n",
              "      </script>\n",
              "    </div>\n",
              "  </div>\n",
              "  "
            ]
          },
          "metadata": {},
          "execution_count": 4
        }
      ],
      "source": [
        "df = pd.read_csv(\"BodyFat.csv\")\n",
        "df.head(2)"
      ]
    },
    {
      "cell_type": "code",
      "execution_count": 5,
      "metadata": {
        "id": "brJZu4zVUOcM"
      },
      "outputs": [],
      "source": [
        "df = df.loc[:,['IDNO','DENSITY','BODYFAT','AGE']]\n"
      ]
    },
    {
      "cell_type": "markdown",
      "metadata": {
        "id": "D1QBhYsdUOcM"
      },
      "source": [
        "### 1.-Descripción de los datos"
      ]
    },
    {
      "cell_type": "code",
      "execution_count": null,
      "metadata": {
        "id": "Jxo3Tz40UOcN",
        "outputId": "394fe57c-9f27-4c71-eee5-871e08c48aa6"
      },
      "outputs": [
        {
          "data": {
            "text/html": [
              "<div>\n",
              "<style scoped>\n",
              "    .dataframe tbody tr th:only-of-type {\n",
              "        vertical-align: middle;\n",
              "    }\n",
              "\n",
              "    .dataframe tbody tr th {\n",
              "        vertical-align: top;\n",
              "    }\n",
              "\n",
              "    .dataframe thead th {\n",
              "        text-align: right;\n",
              "    }\n",
              "</style>\n",
              "<table border=\"1\" class=\"dataframe\">\n",
              "  <thead>\n",
              "    <tr style=\"text-align: right;\">\n",
              "      <th></th>\n",
              "      <th>IDNO</th>\n",
              "      <th>DENSITY</th>\n",
              "      <th>BODYFAT</th>\n",
              "      <th>AGE</th>\n",
              "    </tr>\n",
              "  </thead>\n",
              "  <tbody>\n",
              "    <tr>\n",
              "      <th>count</th>\n",
              "      <td>252.000000</td>\n",
              "      <td>252.000000</td>\n",
              "      <td>252.000000</td>\n",
              "      <td>252.000000</td>\n",
              "    </tr>\n",
              "    <tr>\n",
              "      <th>mean</th>\n",
              "      <td>126.500000</td>\n",
              "      <td>1.055574</td>\n",
              "      <td>18.938492</td>\n",
              "      <td>44.884921</td>\n",
              "    </tr>\n",
              "    <tr>\n",
              "      <th>std</th>\n",
              "      <td>72.890329</td>\n",
              "      <td>0.019031</td>\n",
              "      <td>7.750856</td>\n",
              "      <td>12.602040</td>\n",
              "    </tr>\n",
              "    <tr>\n",
              "      <th>min</th>\n",
              "      <td>1.000000</td>\n",
              "      <td>0.995000</td>\n",
              "      <td>0.000000</td>\n",
              "      <td>22.000000</td>\n",
              "    </tr>\n",
              "    <tr>\n",
              "      <th>25%</th>\n",
              "      <td>63.750000</td>\n",
              "      <td>1.041400</td>\n",
              "      <td>12.800000</td>\n",
              "      <td>35.750000</td>\n",
              "    </tr>\n",
              "    <tr>\n",
              "      <th>50%</th>\n",
              "      <td>126.500000</td>\n",
              "      <td>1.054900</td>\n",
              "      <td>19.000000</td>\n",
              "      <td>43.000000</td>\n",
              "    </tr>\n",
              "    <tr>\n",
              "      <th>75%</th>\n",
              "      <td>189.250000</td>\n",
              "      <td>1.070400</td>\n",
              "      <td>24.600000</td>\n",
              "      <td>54.000000</td>\n",
              "    </tr>\n",
              "    <tr>\n",
              "      <th>max</th>\n",
              "      <td>252.000000</td>\n",
              "      <td>1.108900</td>\n",
              "      <td>45.100000</td>\n",
              "      <td>81.000000</td>\n",
              "    </tr>\n",
              "  </tbody>\n",
              "</table>\n",
              "</div>"
            ],
            "text/plain": [
              "             IDNO     DENSITY     BODYFAT         AGE\n",
              "count  252.000000  252.000000  252.000000  252.000000\n",
              "mean   126.500000    1.055574   18.938492   44.884921\n",
              "std     72.890329    0.019031    7.750856   12.602040\n",
              "min      1.000000    0.995000    0.000000   22.000000\n",
              "25%     63.750000    1.041400   12.800000   35.750000\n",
              "50%    126.500000    1.054900   19.000000   43.000000\n",
              "75%    189.250000    1.070400   24.600000   54.000000\n",
              "max    252.000000    1.108900   45.100000   81.000000"
            ]
          },
          "execution_count": 5,
          "metadata": {},
          "output_type": "execute_result"
        }
      ],
      "source": [
        "df.describe()"
      ]
    },
    {
      "cell_type": "markdown",
      "metadata": {
        "id": "8Y8OaWLzUOcN"
      },
      "source": [
        "### 2.- Medidas de tendencia central"
      ]
    },
    {
      "cell_type": "markdown",
      "metadata": {
        "id": "Mc2J3FEvUOcN"
      },
      "source": [
        "Media aritmetica"
      ]
    },
    {
      "cell_type": "code",
      "execution_count": null,
      "metadata": {
        "id": "N5HKMLRtUOcN",
        "outputId": "2195ae85-5299-4b96-ee8c-c83e5c740720"
      },
      "outputs": [
        {
          "data": {
            "text/plain": [
              "IDNO       126.500000\n",
              "DENSITY      1.055574\n",
              "BODYFAT     18.938492\n",
              "AGE         44.884921\n",
              "dtype: float64"
            ]
          },
          "execution_count": 6,
          "metadata": {},
          "output_type": "execute_result"
        }
      ],
      "source": [
        "df.mean()"
      ]
    },
    {
      "cell_type": "markdown",
      "metadata": {
        "id": "KVfGh8-TUOcO"
      },
      "source": [
        "Media geometrica"
      ]
    },
    {
      "cell_type": "code",
      "execution_count": null,
      "metadata": {
        "id": "fwwEaOrOUOcO",
        "outputId": "24f5ac66-e53d-4703-e0cb-93b8622db9c1"
      },
      "outputs": [
        {
          "data": {
            "text/plain": [
              "array([17.215076])"
            ]
          },
          "execution_count": 7,
          "metadata": {},
          "output_type": "execute_result"
        }
      ],
      "source": [
        "stats.gmean(df[df[\"BODYFAT\"] > 0].loc[:,['BODYFAT']])"
      ]
    },
    {
      "cell_type": "markdown",
      "metadata": {
        "id": "vcJbbfD5UOcO"
      },
      "source": [
        "Media armónica"
      ]
    },
    {
      "cell_type": "code",
      "execution_count": null,
      "metadata": {
        "id": "J2PN_i77UOcP",
        "outputId": "a4fa84b8-468c-46b6-8976-9ad16869e46b"
      },
      "outputs": [
        {
          "data": {
            "text/plain": [
              "array([14.98887993])"
            ]
          },
          "execution_count": 8,
          "metadata": {},
          "output_type": "execute_result"
        }
      ],
      "source": [
        "stats.hmean(df[df[\"BODYFAT\"] > 0].loc[:,['BODYFAT']])"
      ]
    },
    {
      "cell_type": "markdown",
      "metadata": {
        "id": "umYTBY1VUOcP"
      },
      "source": [
        "### 3.- Media de la muestra"
      ]
    },
    {
      "cell_type": "markdown",
      "metadata": {
        "id": "o15L71afUOcP"
      },
      "source": [
        "$$\\mu = \\frac{1}{N}\\sum_{i=1}^{n}(x_i)(f_i)$$ \n",
        "\n",
        "$ N $ : total de datos\n",
        "\n",
        "$ n $ : total de clases\n",
        "\n",
        "$ x_i $ : marca de clase\n",
        "\n",
        "$ f_i $ : frecuencia absoluta de la clase"
      ]
    },
    {
      "cell_type": "code",
      "execution_count": null,
      "metadata": {
        "id": "8d8WKrSrUOcP",
        "outputId": "6c305529-a086-457b-fb1d-bf7d0148923e"
      },
      "outputs": [
        {
          "data": {
            "text/plain": [
              "BODYFAT    18.938492\n",
              "dtype: float64"
            ]
          },
          "execution_count": 9,
          "metadata": {},
          "output_type": "execute_result"
        }
      ],
      "source": [
        "df.loc[:,['BODYFAT']].mean()"
      ]
    },
    {
      "cell_type": "markdown",
      "metadata": {
        "id": "QocNc3wkUOcP"
      },
      "source": [
        "### 4.- Varianza de la muestra"
      ]
    },
    {
      "cell_type": "markdown",
      "metadata": {
        "id": "Sd8GEjUWUOcQ"
      },
      "source": [
        "$$\\sigma^2 = \\frac{1}{N}\\sum_{i=1}^n f_i(x_i - \\mu)^2$$\n",
        "\n",
        "$ N $ : total de datos\n",
        "\n",
        "$ n $ : total de clases\n",
        "\n",
        "$ x_i $ : marca de clase\n",
        "\n",
        "$\\mu$ : media de la población\n",
        "\n",
        "$ f_i $ : frecuencia absoluta de la clase"
      ]
    },
    {
      "cell_type": "code",
      "execution_count": 6,
      "metadata": {
        "colab": {
          "base_uri": "https://localhost:8080/"
        },
        "id": "ovwCUoRyUOcQ",
        "outputId": "13fc9181-5011-4fbf-ea64-cc2fe615beb4"
      },
      "outputs": [
        {
          "output_type": "execute_result",
          "data": {
            "text/plain": [
              "BODYFAT    60.075763\n",
              "dtype: float64"
            ]
          },
          "metadata": {},
          "execution_count": 6
        }
      ],
      "source": [
        "df.loc[:,['BODYFAT']].var()"
      ]
    },
    {
      "cell_type": "markdown",
      "metadata": {
        "id": "2KGfejJmUOcQ"
      },
      "source": [
        "### 5.- Desviación estándar"
      ]
    },
    {
      "cell_type": "code",
      "execution_count": null,
      "metadata": {
        "id": "s8PbG-MeUOcQ",
        "outputId": "f89ebb32-2c93-4a07-8db5-8ef72646e2d5"
      },
      "outputs": [
        {
          "data": {
            "text/plain": [
              "IDNO       72.890329\n",
              "DENSITY     0.019031\n",
              "BODYFAT     7.750856\n",
              "AGE        12.602040\n",
              "dtype: float64"
            ]
          },
          "execution_count": 11,
          "metadata": {},
          "output_type": "execute_result"
        }
      ],
      "source": [
        "df.std()"
      ]
    },
    {
      "cell_type": "code",
      "execution_count": null,
      "metadata": {
        "id": "fVYXHDGHUOcR",
        "outputId": "dd8e7209-7a47-479a-ad7e-1a502bfd3f26"
      },
      "outputs": [
        {
          "data": {
            "text/plain": [
              "BODYFAT    7.750856\n",
              "dtype: float64"
            ]
          },
          "execution_count": 12,
          "metadata": {},
          "output_type": "execute_result"
        }
      ],
      "source": [
        "df.loc[:,['BODYFAT']].std()"
      ]
    },
    {
      "cell_type": "markdown",
      "metadata": {
        "id": "-Pq38LcMUOcR"
      },
      "source": [
        "### 6.- Rango"
      ]
    },
    {
      "cell_type": "code",
      "execution_count": null,
      "metadata": {
        "id": "90GWj_3gUOcR",
        "outputId": "da594b2c-5bef-4c6d-d9f5-2665832147a5"
      },
      "outputs": [
        {
          "name": "stdout",
          "output_type": "stream",
          "text": [
            "     BODYFAT  AGE\n",
            "0       12.6   23\n",
            "1        6.9   22\n",
            "2       24.6   22\n",
            "3       10.9   26\n",
            "4       27.8   24\n",
            "..       ...  ...\n",
            "247     11.5   70\n",
            "248     32.3   72\n",
            "249     28.3   72\n",
            "250     25.3   72\n",
            "251     30.7   74\n",
            "\n",
            "[252 rows x 2 columns]\n"
          ]
        }
      ],
      "source": [
        "df = pd.read_csv(\"BodyFat.csv\")\n",
        "AGE = df.AGE \n",
        "BODYFAT = df.BODYFAT\n",
        "df_1 = pd.DataFrame({'BODYFAT':BODYFAT,'AGE':AGE})\n",
        "print(df_1)"
      ]
    },
    {
      "cell_type": "markdown",
      "metadata": {
        "id": "xcV37L4dUOcS"
      },
      "source": [
        "Para determinar el rango de edad de las personas en las que se midió su grasa corporal así como el total de grasa que presentan cada una de ellas, utilizaremos la siguiente expresión:"
      ]
    },
    {
      "cell_type": "markdown",
      "metadata": {
        "id": "-ltA4dWcUOcS"
      },
      "source": [
        "$ Rango = X_{máximo} - X_{mínimo}$\n",
        "\n",
        "$Intervalos = 1 + 3.332 \\log_{10} (N)$ \n",
        "\n",
        "$Amplitud = \\dfrac{Rango}{Intervalos}$"
      ]
    },
    {
      "cell_type": "code",
      "execution_count": null,
      "metadata": {
        "id": "Zppsy80wUOcS",
        "outputId": "f844efcb-6a84-4abb-dd00-fd3505dc37f8"
      },
      "outputs": [
        {
          "name": "stdout",
          "output_type": "stream",
          "text": [
            "Rango = 81 - 22 =  59\n",
            "Intervalos = 9.0\n",
            "Amplitud = 6.555555555555555\n"
          ]
        }
      ],
      "source": [
        "EDADmax=max(AGE)\n",
        "EDADmin=min(AGE)\n",
        "Rango=EDADmax-EDADmin\n",
        "print(\"Rango =\",EDADmax,\"-\",EDADmin,\"= \",Rango)\n",
        "Intervalos= round(1 + 3.322 * np.log10 ( len(AGE)))\n",
        "print(\"Intervalos =\",Intervalos )\n",
        "Amplitud = Rango/ Intervalos\n",
        "print(\"Amplitud =\",Amplitud)"
      ]
    },
    {
      "cell_type": "code",
      "execution_count": null,
      "metadata": {
        "id": "a8NtHwvIUOcS",
        "outputId": "1d816c50-1e8b-44ec-9681-b08cd92ddc94"
      },
      "outputs": [
        {
          "name": "stdout",
          "output_type": "stream",
          "text": [
            "Rango = 45.1 - 0.0 =  45.1\n",
            "Intervalos = 9.0\n",
            "Amplitud = 5.011111111111111\n"
          ]
        }
      ],
      "source": [
        "BFmax=max(BODYFAT)\n",
        "BFmin=min(BODYFAT)\n",
        "Rango1=BFmax-BFmin\n",
        "print(\"Rango =\",BFmax,\"-\",BFmin,\"= \",Rango1)\n",
        "Intervalos1= round(1 + 3.322 * np.log10 ( len(BODYFAT)))\n",
        "INT=int(Intervalos1)\n",
        "print(\"Intervalos =\",Intervalos1 )\n",
        "Amplitud1 = Rango1/ Intervalos1\n",
        "print(\"Amplitud =\",Amplitud1)"
      ]
    },
    {
      "cell_type": "markdown",
      "metadata": {
        "id": "u6trfWbrUOcT"
      },
      "source": [
        "### 7.- Frecuencias absolutas y relativas"
      ]
    },
    {
      "cell_type": "code",
      "execution_count": null,
      "metadata": {
        "id": "XGE--SARUOcT",
        "outputId": "a5f54f4f-b421-4633-c03d-5ec0c13e4586"
      },
      "outputs": [
        {
          "data": {
            "text/plain": [
              "(BODYFAT    18.938492\n",
              " dtype: float64,\n",
              " BODYFAT    7.750856\n",
              " dtype: float64)"
            ]
          },
          "execution_count": 16,
          "metadata": {},
          "output_type": "execute_result"
        }
      ],
      "source": [
        "df.loc[:,['BODYFAT']].mean(),df.loc[:,['BODYFAT']].std()"
      ]
    },
    {
      "cell_type": "code",
      "execution_count": null,
      "metadata": {
        "id": "-MGTAwVWUOcT"
      },
      "outputs": [],
      "source": [
        "hist,bin_edges = np.histogram(df[df['BODYFAT'] > 0].loc[:,['BODYFAT']])"
      ]
    },
    {
      "cell_type": "markdown",
      "metadata": {
        "id": "k1d9r7JVUOcT"
      },
      "source": [
        "### 8.- Marcas de clase"
      ]
    },
    {
      "cell_type": "code",
      "execution_count": null,
      "metadata": {
        "id": "v7QExeVBUOcU"
      },
      "outputs": [],
      "source": [
        "ClasesFrecuencias = pd.DataFrame(columns=[\"Clase_Inf\",\"Clase_Sup\",\"Marca_Clase\",\"f_i\",\"F_i\",\"f_r\",\"F_r\"])"
      ]
    },
    {
      "cell_type": "code",
      "execution_count": null,
      "metadata": {
        "id": "IrRdFd59UOcU"
      },
      "outputs": [],
      "source": [
        "MarcadorInferior = BODYFAT[0] # Se toma el valor más pequeño\n",
        "ListaMarcadorInferior = []\n",
        "\n",
        "for i in range (0,INT+1):\n",
        "    ListaMarcadorInferior.append(MarcadorInferior)\n",
        "    MarcadorInferior += Amplitud # Se le suma la amplitud hasta completar los intervalos"
      ]
    },
    {
      "cell_type": "code",
      "execution_count": null,
      "metadata": {
        "id": "qO8--6VmUOcU"
      },
      "outputs": [],
      "source": [
        "ClasesFrecuencias[\"Clase_Inf\"] = ListaMarcadorInferior\n",
        "ClasesFrecuencias[\"Clase_Sup\"] = ClasesFrecuencias[\"Clase_Inf\"] + Amplitud\n",
        "ClasesFrecuencias[\"Marca_Clase\"] = (ClasesFrecuencias[\"Clase_Inf\"] + ClasesFrecuencias[\"Clase_Sup\"])/2\n"
      ]
    },
    {
      "cell_type": "code",
      "execution_count": null,
      "metadata": {
        "id": "vRMYG9rwUOcU"
      },
      "outputs": [],
      "source": [
        "frecuenciaClase = []\n",
        "\n",
        "for i in range (0,INT+1):\n",
        "    marcadorInferior = ClasesFrecuencias[\"Clase_Inf\"][i]\n",
        "    marcadorSuperior = ClasesFrecuencias[\"Clase_Sup\"][i]\n",
        "    \n",
        "    to = 0\n",
        "    \n",
        "    for j in BODYFAT:\n",
        "        to += 1 if marcadorInferior <= j < marcadorSuperior else 0\n",
        "    \n",
        "    frecuenciaClase.append(to)\n"
      ]
    },
    {
      "cell_type": "code",
      "execution_count": null,
      "metadata": {
        "id": "w7vfwFGaUOcV",
        "outputId": "4d631fa7-16cf-40ff-bbec-d76847d25dec"
      },
      "outputs": [
        {
          "name": "stdout",
          "output_type": "stream",
          "text": [
            "   Clase_Inf  Clase_Sup  Marca_Clase  f_i  F_i       f_r       F_r\n",
            "0  12.600000  19.155556    15.877778   71   71  0.281746  0.281746\n",
            "1  19.155556  25.711111    22.433333   71  142  0.281746  0.563492\n",
            "2  25.711111  32.266667    28.988889   43  185  0.170635  0.734127\n",
            "3  32.266667  38.822222    35.544444    8  193  0.031746  0.765873\n",
            "4  38.822222  45.377778    42.100000    1  194  0.003968  0.769841\n",
            "5  45.377778  51.933333    48.655556    0  194  0.000000  0.769841\n",
            "6  51.933333  58.488889    55.211111    0  194  0.000000  0.769841\n",
            "7  58.488889  65.044444    61.766667    0  194  0.000000  0.769841\n",
            "8  65.044444  71.600000    68.322222    0  194  0.000000  0.769841\n",
            "9  71.600000  78.155556    74.877778    0  194  0.000000  0.769841\n"
          ]
        }
      ],
      "source": [
        "ClasesFrecuencias[\"f_i\"] = frecuenciaClase\n",
        "ClasesFrecuencias[\"F_i\"] = ClasesFrecuencias[\"f_i\"].cumsum()\n",
        "ClasesFrecuencias[\"f_r\"] = ClasesFrecuencias[\"f_i\"]/len(BODYFAT)\n",
        "ClasesFrecuencias[\"F_r\"] = ClasesFrecuencias[\"f_r\"].cumsum()\n",
        "print(ClasesFrecuencias)"
      ]
    },
    {
      "cell_type": "markdown",
      "metadata": {
        "id": "SJoBrDavUOcV"
      },
      "source": [
        "### 9.-Histograma de frecuencias absolutas"
      ]
    },
    {
      "cell_type": "code",
      "execution_count": null,
      "metadata": {
        "id": "jaClpU_sUOcV",
        "outputId": "b8bd522c-3e34-4e75-e94a-5686aabb6611"
      },
      "outputs": [
        {
          "data": {
            "image/png": "[encoded data removed]",
            "text/plain": [
              "<Figure size 720x576 with 1 Axes>"
            ]
          },
          "metadata": {
            "needs_background": "light"
          },
          "output_type": "display_data"
        }
      ],
      "source": [
        "plt.figure(figsize=[10,8])\n",
        "\n",
        "plt.bar(bin_edges[:-1], hist, width = 4, alpha=0.6)\n",
        "plt.xlim(min(bin_edges)-0.75, max(bin_edges))\n",
        "plt.grid(axis='y', alpha=0.75)\n",
        "plt.xlabel('Valor',fontsize=15)\n",
        "plt.ylabel('Frecuencia',fontsize=15)\n",
        "plt.xticks(fontsize=15)\n",
        "plt.yticks(fontsize=15)\n",
        "plt.title('Histograma de frecuencias absolutas',fontsize=15)\n",
        "plt.show()"
      ]
    },
    {
      "cell_type": "markdown",
      "metadata": {
        "id": "YskohspqUOcW"
      },
      "source": [
        "### 10.-Calculo de Frecuencia Abs. Acumulada"
      ]
    },
    {
      "cell_type": "code",
      "execution_count": null,
      "metadata": {
        "id": "QKsrZ5KCUOcW"
      },
      "outputs": [],
      "source": [
        "fr=(df[df['BODYFAT'] > 0].loc[:,['BODYFAT']])*100/np.sum(df[df['BODYFAT'] > 0].loc[:,['BODYFAT']])"
      ]
    },
    {
      "cell_type": "code",
      "execution_count": null,
      "metadata": {
        "id": "lOj2Zbk4UOcW"
      },
      "outputs": [],
      "source": [
        "hist,bin_edges = np.histogram(fr)"
      ]
    },
    {
      "cell_type": "code",
      "execution_count": null,
      "metadata": {
        "id": "NG5pMYr0UOcW",
        "outputId": "690e9c49-d96d-466a-803d-866a39605878"
      },
      "outputs": [
        {
          "data": {
            "image/png": "[encoded data removed]",
            "text/plain": [
              "<Figure size 720x576 with 1 Axes>"
            ]
          },
          "metadata": {
            "needs_background": "light"
          },
          "output_type": "display_data"
        }
      ],
      "source": [
        "plt.figure(figsize=[10,8])\n",
        "\n",
        "plt.bar(bin_edges[:-1], hist, width = 0.08,alpha=0.6)\n",
        "plt.xlim(min(bin_edges)-0.15, max(bin_edges))\n",
        "plt.grid(axis='y', alpha=0.75)\n",
        "plt.xlabel('Valor',fontsize=15)\n",
        "plt.ylabel('Frecuencia',fontsize=15)\n",
        "plt.xticks(fontsize=15)\n",
        "plt.yticks(fontsize=15)\n",
        "plt.title('Histograma de frecuencias Relativas',fontsize=15)\n",
        "plt.show()"
      ]
    },
    {
      "cell_type": "markdown",
      "metadata": {
        "id": "kbIkM52_UOcW"
      },
      "source": [
        "### 11.-Calculo de Frecuencia Rel. Acumulada\n"
      ]
    },
    {
      "cell_type": "code",
      "execution_count": null,
      "metadata": {
        "id": "fgr8vraRUOcW",
        "outputId": "df3238e0-fa47-44eb-d483-4700fa8fef8d"
      },
      "outputs": [
        {
          "data": {
            "text/plain": [
              "array([  0.9072813 ,  10.88088004,  20.85447878,  30.82807753,\n",
              "        40.80167627,  50.77527501,  60.74887376,  70.7224725 ,\n",
              "        80.69607124,  90.66966998, 100.64326873])"
            ]
          },
          "execution_count": 76,
          "metadata": {},
          "output_type": "execute_result"
        }
      ],
      "source": [
        "fra=(df.loc[:,['BODYFAT']])*100/np.sum(df.loc[:,['BODYFAT']])\n",
        "for i in fra.index:\n",
        "    fra.values[i] = fra.values[i] + fra.values[i-1]\n",
        "    \n",
        "hist,bin_edges = np.histogram(fra)\n",
        "bin_edges"
      ]
    },
    {
      "cell_type": "code",
      "execution_count": null,
      "metadata": {
        "id": "wmyj82bvUOcX",
        "outputId": "c4c7e4db-3205-4008-f412-70b9e222eb91"
      },
      "outputs": [
        {
          "data": {
            "image/png": "[encoded data removed]",
            "text/plain": [
              "<Figure size 720x576 with 1 Axes>"
            ]
          },
          "metadata": {
            "needs_background": "light"
          },
          "output_type": "display_data"
        }
      ],
      "source": [
        "plt.figure(figsize=[10,8])\n",
        "\n",
        "plt.bar(bin_edges[:-1], hist/50, width = 4,alpha=0.6)\n",
        "plt.xlim(min(bin_edges)-5, max(bin_edges)-6)\n",
        "plt.grid(axis='y', alpha=0.75)\n",
        "plt.xlabel('Valor',fontsize=15)\n",
        "plt.ylabel('Frecuencia',fontsize=15)\n",
        "plt.xticks(fontsize=15)\n",
        "plt.yticks(fontsize=15)\n",
        "plt.title('Histograma de frecuencias relativas Acumuladas',fontsize=15)\n",
        "plt.show()"
      ]
    },
    {
      "cell_type": "markdown",
      "metadata": {
        "id": "8t1ZIrY-UOcX"
      },
      "source": [
        "### 14.-Funcion de densidad probabilidad"
      ]
    },
    {
      "cell_type": "markdown",
      "metadata": {
        "id": "9sDU7rl-UOcX"
      },
      "source": [
        "Esta dada por: $$\\dfrac{1}{\\sigma\\sqrt{2\\pi}} e ^ {-\\dfrac{(x-\\mu)^2}{2\\sigma^2}}$$"
      ]
    },
    {
      "cell_type": "code",
      "execution_count": null,
      "metadata": {
        "id": "PAirSlmfUOcX",
        "outputId": "32f83029-eee9-4108-ccec-8bdfaac8e05b"
      },
      "outputs": [
        {
          "name": "stdout",
          "output_type": "stream",
          "text": [
            "BODYFAT    7.750856\n",
            "dtype: float64\n"
          ]
        }
      ],
      "source": [
        "Media=df.loc[:,['BODYFAT']].mean()\n",
        "Varianza = df.loc[:,['BODYFAT']].var()\n",
        "DesvStd=df.loc[:,['BODYFAT']].std()\n",
        "sigma = DesvStd\n",
        "print(DesvStd)"
      ]
    },
    {
      "cell_type": "code",
      "execution_count": null,
      "metadata": {
        "id": "saiGmo6sUOcX",
        "outputId": "3ef616cb-2ebc-4481-9dbc-a31a7527cccf"
      },
      "outputs": [
        {
          "data": {
            "text/plain": [
              "<function matplotlib.pyplot.show(*args, **kw)>"
            ]
          },
          "execution_count": 79,
          "metadata": {},
          "output_type": "execute_result"
        },
        {
          "data": {
            "image/png": "[encoded data removed]",
            "text/plain": [
              "<Figure size 1080x360 with 1 Axes>"
            ]
          },
          "metadata": {
            "needs_background": "light"
          },
          "output_type": "display_data"
        }
      ],
      "source": [
        "import numpy as np\n",
        "plt.figure(figsize =(15 ,5))\n",
        "\n",
        "EjeX = np.linspace(ClasesFrecuencias[\"Marca_Clase\"].iloc[0] , ClasesFrecuencias[\"Marca_Clase\"].iloc[-1],1000)\n",
        "\n",
        "factorPi = (1/(sigma*np.sqrt(2*np.pi)))\n",
        "\n",
        "EjeY =  factorPi['BODYFAT']* (np.e **( (-1/2)*((EjeX-Media['BODYFAT'])/(sigma['BODYFAT']))**2 )) * Amplitud # <-- Por la amplitud de las clases\n",
        "                                      \n",
        "\n",
        "plt.plot(EjeX ,EjeY,'r')\n",
        "\n",
        "plt.grid( True )\n",
        "plt.xlabel (\"Marca de Clase\")\n",
        "plt.ylabel (\"Probabilidad\")\n",
        "plt.title (\"Función de Probabilidad\")\n",
        "\n",
        "plt.show\n",
        "\n",
        "\n"
      ]
    },
    {
      "cell_type": "markdown",
      "metadata": {
        "id": "ebWEfZ2BUOcY"
      },
      "source": [
        "### 15.-Funcion de distribución de la muestra\n"
      ]
    },
    {
      "cell_type": "markdown",
      "metadata": {
        "id": "jkuld7EiUOcY"
      },
      "source": [
        "Esta dada por: $$\\dfrac{1}{\\sigma\\sqrt{2\\pi}} \\int_{-\\infty}^{x} e ^ {-\\dfrac{(x-\\mu)^2}{2\\sigma^2}}$$"
      ]
    },
    {
      "cell_type": "code",
      "execution_count": null,
      "metadata": {
        "id": "7ii7MfSbUOcY",
        "outputId": "b970b830-c3f2-4d10-9df5-c70d675b91e0"
      },
      "outputs": [
        {
          "data": {
            "text/plain": [
              "<function matplotlib.pyplot.show(*args, **kw)>"
            ]
          },
          "execution_count": 80,
          "metadata": {},
          "output_type": "execute_result"
        },
        {
          "data": {
            "image/png": "[encoded data removed]",
            "text/plain": [
              "<Figure size 1080x360 with 1 Axes>"
            ]
          },
          "metadata": {
            "needs_background": "light"
          },
          "output_type": "display_data"
        }
      ],
      "source": [
        "plt.figure(figsize =(15 ,5))\n",
        "\n",
        "plt.plot(ClasesFrecuencias[\"Marca_Clase\"] ,ClasesFrecuencias[\"F_r\"],'bo')\n",
        "plt.grid( True )\n",
        "\n",
        "plt.xlabel (\"Marca de Clase\")\n",
        "plt.ylabel (\"Probabilidad\")\n",
        "plt.title (\"Función de Distribución\")\n",
        "\n",
        "plt.show"
      ]
    },
    {
      "cell_type": "markdown",
      "metadata": {
        "id": "R4WgK6DPUOcY"
      },
      "source": [
        "### 16.-Determinación de la función de densidad de probabilidad teórica\n"
      ]
    },
    {
      "cell_type": "code",
      "execution_count": null,
      "metadata": {
        "id": "6ODTcO5mUOcY",
        "outputId": "5c5e459f-773c-43ea-ffda-fc7635635c64"
      },
      "outputs": [
        {
          "data": {
            "text/plain": [
              "<function matplotlib.pyplot.show(*args, **kw)>"
            ]
          },
          "execution_count": 81,
          "metadata": {},
          "output_type": "execute_result"
        },
        {
          "data": {
            "image/png": "[encoded data removed]",
            "text/plain": [
              "<Figure size 1080x360 with 1 Axes>"
            ]
          },
          "metadata": {
            "needs_background": "light"
          },
          "output_type": "display_data"
        }
      ],
      "source": [
        "import numpy as np\n",
        "plt.figure(figsize =(15 ,5))\n",
        "\n",
        "\n",
        "plt.plot(ClasesFrecuencias[\"Marca_Clase\"] ,ClasesFrecuencias[\"f_r\"],'*')\n",
        "\n",
        "\n",
        "plt.grid( True )\n",
        "plt.xlabel (\"Marca de Clase\")\n",
        "plt.ylabel (\"Probabilidad\")\n",
        "plt.title (\"Función de Probabilidad\")\n",
        "\n",
        "plt.show"
      ]
    },
    {
      "cell_type": "markdown",
      "metadata": {
        "id": "kKX4EGB_UOcZ"
      },
      "source": [
        "### 17.-Comparacion entre función de distribución de la muestra y la teórica\n"
      ]
    },
    {
      "cell_type": "code",
      "execution_count": null,
      "metadata": {
        "id": "VQ9vYFbvUOcZ",
        "outputId": "1ba231da-b235-4d96-fe5c-e85d9661a641"
      },
      "outputs": [
        {
          "data": {
            "text/plain": [
              "<function matplotlib.pyplot.show(*args, **kw)>"
            ]
          },
          "execution_count": 82,
          "metadata": {},
          "output_type": "execute_result"
        },
        {
          "data": {
            "image/png": "[encoded data removed]",
            "text/plain": [
              "<Figure size 1080x360 with 1 Axes>"
            ]
          },
          "metadata": {
            "needs_background": "light"
          },
          "output_type": "display_data"
        }
      ],
      "source": [
        "import numpy as np\n",
        "plt.figure(figsize =(15 ,5))\n",
        "\n",
        "EjeX = np.linspace(ClasesFrecuencias[\"Marca_Clase\"].iloc[0] , ClasesFrecuencias[\"Marca_Clase\"].iloc[-1],1000)\n",
        "\n",
        "factorPi = (1/(sigma*np.sqrt(2*np.pi)))\n",
        "\n",
        "EjeY =  factorPi['BODYFAT']* (np.e **( (-1/2)*((EjeX-Media['BODYFAT'])/(sigma['BODYFAT']))**2 )) * Amplitud # <-- Por la amplitud de las clases\n",
        "                                      \n",
        "plt.plot(ClasesFrecuencias[\"Marca_Clase\"] ,ClasesFrecuencias[\"f_r\"],'bo')\n",
        "plt.plot(EjeX ,EjeY,'r')\n",
        "\n",
        "plt.grid( True )\n",
        "plt.xlabel (\"Marca de Clase\")\n",
        "plt.ylabel (\"Probabilidad\")\n",
        "plt.title (\"Función de Probabilidad\")\n",
        "\n",
        "plt.show"
      ]
    },
    {
      "cell_type": "markdown",
      "metadata": {
        "id": "xb5d1CTpUOcZ"
      },
      "source": [
        "### 18.-Determinación de los primeros tres momentos, el coeficiente de variación, el sesgo y la Kurtosis \n"
      ]
    },
    {
      "cell_type": "markdown",
      "metadata": {
        "id": "bLDrwVCvUOcZ"
      },
      "source": [
        " $$ E[x^k]=\\int_{-\\infty}^{\\infty} x. f(x) dx$$\n",
        " \n",
        " Dónde K es el numero de momentos"
      ]
    },
    {
      "cell_type": "markdown",
      "metadata": {
        "id": "VNjJVpPeUOcZ"
      },
      "source": [
        "Considerando una función auxiliar $$f(x)=e^{tx}$$\n",
        "De tal forma, que cuando k=1\n",
        "$$E[x]=\\mu=E[e^{tx}]=G'(0)$$ \n",
        "Cuando k=2\n",
        "$$E[x^2]=E[(e^{tx})^2]=G''(0)$$ \n",
        "y cuando k=3\n",
        "$$E[x^3]=E[(e^{tx})^3]=G'''(0)$$ "
      ]
    },
    {
      "cell_type": "markdown",
      "metadata": {
        "id": "KdcDsJ7HUOca"
      },
      "source": [
        "$$g =\\frac{ \\frac{1}{n}\\sum_{i=1}^n f_i(x_i - X)^4}{S_x^4}-3$$"
      ]
    },
    {
      "cell_type": "code",
      "execution_count": null,
      "metadata": {
        "id": "Wnrli-zpUOca",
        "outputId": "0e5f6ba3-dbe5-402e-8426-7a1ee93dad53"
      },
      "outputs": [
        {
          "name": "stdout",
          "output_type": "stream",
          "text": [
            "Coeficiente de Variación\n",
            "0.4084518273529395\n",
            "Sesgo\n",
            "0.4084518273529395\n",
            "Kurtosis\n",
            "-0.32445732871279764\n"
          ]
        }
      ],
      "source": [
        "import scipy\n",
        "Coef=stats.variation(df['BODYFAT'])\n",
        "Sesgo=stats.skew(df['BODYFAT'])\n",
        "Kurtosis=stats.kurtosis(df['BODYFAT'])\n",
        "print(\"Coeficiente de Variación\")\n",
        "print(Coef)\n",
        "print(\"Sesgo\")\n",
        "print(Coef)\n",
        "print(\"Kurtosis\")\n",
        "print(Kurtosis)"
      ]
    },
    {
      "cell_type": "markdown",
      "metadata": {
        "id": "lmUHJXhEUOca"
      },
      "source": [
        "### 19. Intervalo de confianza para la media de la población\n"
      ]
    },
    {
      "cell_type": "code",
      "execution_count": null,
      "metadata": {
        "id": "nGtFYNglUOcb",
        "outputId": "bb29bbb5-0844-4d94-a925-2e4c7fe9497d"
      },
      "outputs": [
        {
          "name": "stdout",
          "output_type": "stream",
          "text": [
            "Intervalos de confianza\n",
            "(58.70378821082196, 61.44773778917804)\n"
          ]
        }
      ],
      "source": [
        "\n",
        "Varianza = 60.075763\n",
        "Interv=scipy.stats.norm.interval(0.95,loc=Varianza,scale=.7)\n",
        "print(\"Intervalos de confianza\")\n",
        "print(Interv)"
      ]
    },
    {
      "cell_type": "markdown",
      "metadata": {
        "id": "2fwCjvbxUOcb"
      },
      "source": [
        "### 20. Intervalo de confianza para la varianza de la población\n"
      ]
    },
    {
      "cell_type": "code",
      "execution_count": null,
      "metadata": {
        "id": "paa0iuewUOcc",
        "outputId": "61f40ef8-d03c-41e1-e1b5-b8d9d942b553"
      },
      "outputs": [
        {
          "name": "stdout",
          "output_type": "stream",
          "text": [
            "Intervalos de confianza\n",
            "(17.566515210821965, 20.310464789178038)\n"
          ]
        }
      ],
      "source": [
        "import scipy\n",
        "Media = 18.93849\n",
        "Interv=scipy.stats.norm.interval(0.95,loc=Media,scale=.7)\n",
        "print(\"Intervalos de confianza\")\n",
        "print(Interv)"
      ]
    },
    {
      "cell_type": "markdown",
      "metadata": {
        "id": "dAf8TcgKUOcc"
      },
      "source": [
        "### 21. Prueba t-Student\n"
      ]
    },
    {
      "cell_type": "code",
      "execution_count": null,
      "metadata": {
        "id": "WN0bPA05UOcd",
        "outputId": "387a3469-c3ec-4b3d-d3bf-d1addb576319"
      },
      "outputs": [
        {
          "name": "stdout",
          "output_type": "stream",
          "text": [
            "No se rechaza ya que P > alpha\n",
            "P = 7.033483259760282e-105\n",
            "Alpha = 0.05\n"
          ]
        }
      ],
      "source": [
        "tstudent=scipy.stats.ttest_ind(df['BODYFAT'],EjeX)\n",
        "P=tstudent[1]\n",
        "\n",
        "alpha = 0.05\n",
        "if P < alpha:\n",
        " print('No se rechaza ya que P > alpha')\n",
        " print('P =',P)\n",
        " print('Alpha =',alpha)\n",
        "else:\n",
        "  print('Se rechaza ya que P < alpha')\n",
        "  print('P =',P)\n",
        "  print('Alpha =',alpha)"
      ]
    },
    {
      "cell_type": "markdown",
      "metadata": {
        "id": "AGNBbAhgUOcd"
      },
      "source": [
        "### 22. Prueba Chi-cuadrada\n"
      ]
    },
    {
      "cell_type": "code",
      "execution_count": null,
      "metadata": {
        "id": "vGBQGWvkUOcd",
        "outputId": "05d5a06b-ab52-4024-fa01-95e0167b8aed"
      },
      "outputs": [
        {
          "name": "stdout",
          "output_type": "stream",
          "text": [
            "Se rechaza ya que P < alpha\n",
            "P = 7.033483259760282e-105\n",
            "Alpha = 0.05\n"
          ]
        }
      ],
      "source": [
        "Bo=df[df[\"BODYFAT\"] > 0].loc[:,['BODYFAT']]\n",
        "chi2, p, dof, exp = scipy.stats.chi2_contingency(Bo)\n",
        "alpha=.05\n",
        "if P >= alpha:\n",
        " print('No se rechaza ya que P > alpha')\n",
        " print('P =',P)\n",
        " print('Alpha =',alpha)\n",
        "else:\n",
        "  print('Se rechaza ya que P < alpha')\n",
        "  print('P =',P)\n",
        "  print('Alpha =',alpha)"
      ]
    },
    {
      "cell_type": "markdown",
      "metadata": {
        "id": "3eYoB3NsUOcd"
      },
      "source": [
        "### 23. Prueba de Kolmogorov - Smirnov"
      ]
    },
    {
      "cell_type": "code",
      "execution_count": null,
      "metadata": {
        "id": "1k_Bl9iMUOce",
        "outputId": "a00d8d9e-d49f-416c-9bc3-4dfde2acf8b1"
      },
      "outputs": [
        {
          "name": "stdout",
          "output_type": "stream",
          "text": [
            "No se rechaza ya que P > alpha\n",
            "P = 7.033483259760282e-105\n",
            "Alpha = 0.08567194721542484\n"
          ]
        }
      ],
      "source": [
        "import math\n",
        "ks, pValue = scipy.stats.kstest(df['BODYFAT'],EjeX)\n",
        "alpha = 1.36/math.sqrt(len(df['BODYFAT']))\n",
        "if p > alpha:\n",
        " print('No se rechaza ya que P > alpha')\n",
        " print('P =',P)\n",
        " print('Alpha =',alpha)\n",
        "else:\n",
        "  print('Se rechaza ya que P < alpha')\n",
        "  print('P =',P)\n",
        "  print('Alpha =',alpha)"
      ]
    },
    {
      "cell_type": "code",
      "execution_count": null,
      "metadata": {
        "id": "DShZ8PTfUOce"
      },
      "outputs": [],
      "source": []
    }
  ],
  "metadata": {
    "kernelspec": {
      "display_name": "Python 3",
      "language": "python",
      "name": "python3"
    },
    "language_info": {
      "codemirror_mode": {
        "name": "ipython",
        "version": 3
      },
      "file_extension": ".py",
      "mimetype": "text/x-python",
      "name": "python",
      "nbconvert_exporter": "python",
      "pygments_lexer": "ipython3",
      "version": "3.8.3"
    },
    "colab": {
      "provenance": [],
      "include_colab_link": true
    }
  },
  "nbformat": 4,
  "nbformat_minor": 0
}